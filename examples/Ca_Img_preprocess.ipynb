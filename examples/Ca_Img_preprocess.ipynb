{
 "cells": [
  {
   "cell_type": "code",
   "execution_count": 4,
   "metadata": {},
   "outputs": [],
   "source": [
    "from ScanImageTiffReader import ScanImageTiffReader\n",
    "import json\n",
    "import ast\n",
    "from PIL import Image\n",
    "import os\n",
    "import tifffile\n",
    "import numpy as np\n",
    "import h5py\n",
    "import matplotlib.pyplot as plt\n",
    "from murphlib.tools import *"
   ]
  },
  {
   "cell_type": "code",
   "execution_count": 2,
   "metadata": {},
   "outputs": [],
   "source": []
  },
  {
   "cell_type": "code",
   "execution_count": 2,
   "metadata": {},
   "outputs": [],
   "source": [
    "def crop_or_pad(image, target_width, target_height):\n",
    "    \"\"\"\n",
    "    Pad or crop the image to make it 512x512.\n",
    "    \"\"\"\n",
    "    # Crop if larger\n",
    "    if image.shape[0] > target_height or image.shape[1] > target_width:\n",
    "        # Center crop to 512x512\n",
    "        startx = image.shape[1]//2 - (target_width//2)\n",
    "        starty = image.shape[0]//2 - (target_height//2)    \n",
    "        image = image[starty:starty+target_height, startx:startx+target_width]\n",
    "    # Pad if smaller\n",
    "    if image.shape[0] < target_height or image.shape[1] < target_width:\n",
    "        # Calculate padding sizes\n",
    "        pad_x = (target_width - image.shape[1]) // 2\n",
    "        pad_y = (target_height - image.shape[0]) // 2\n",
    "        image = np.pad(image, [(pad_y, target_height - image.shape[0] - pad_y), (pad_x, target_width - image.shape[1] - pad_x)], mode='constant')\n",
    "    return image\n",
    "def concatenate_tiffs_for_deep_interp(folder_path, num_roi):\n",
    "    # target output, 512x512\n",
    "    tiff_files = [f for f in os.listdir(folder_path) if f.endswith('.tif')]\n",
    "    tiff_files.sort()  # Ensure files are in the desired order\n",
    "\n",
    "    if num_roi == 1:\n",
    "        all_images = []\n",
    "\n",
    "        for tiff_file in tiff_files:\n",
    "            with tifffile.TiffFile(os.path.join(folder_path, tiff_file)) as tif:\n",
    "                for page in tif.pages:\n",
    "                    image = page.asarray()\n",
    "                    # Adjust each image to be 512x512\n",
    "                    processed_image = crop_or_pad(image, 512, 512)\n",
    "                    all_images.append(processed_image)\n",
    "\n",
    "        # Save the adjusted images as a new TIFF file\n",
    "        output_file_path = os.path.join(folder_path, 'concatenated_adjusted_output.tif')\n",
    "        with tifffile.TiffWriter(output_file_path, bigtiff=True) as tif:\n",
    "            for image in all_images:\n",
    "                tif.write(image)\n",
    "\n",
    "    elif num_roi == 2:\n",
    "        all_top_images = []\n",
    "        all_bottom_images = []\n",
    "        for tiff_file in tiff_files:\n",
    "            with tifffile.TiffFile(os.path.join(folder_path, tiff_file)) as tif:\n",
    "                for page in tif.pages:\n",
    "                    image = page.asarray()\n",
    "                    # Adjust each image to be 512x512\n",
    "                    processed_image = crop_or_pad(image, 512, 1024)\n",
    "                    all_top_images.append(processed_image[:512, :])\n",
    "                    all_bottom_images.append(processed_image[512:, :])\n",
    "\n",
    "        # Save the adjusted images as a new TIFF file\n",
    "        output_file_path1 = os.path.join(folder_path, 'concatenated_top_images.tif')\n",
    "        output_file_path2 = os.path.join(folder_path, 'concatenated_bottom_images.tif')\n",
    "        with tifffile.TiffWriter(output_file_path1, bigtiff=True) as tif:\n",
    "            for image in all_top_images:\n",
    "                tif.write(image)\n",
    "        with tifffile.TiffWriter(output_file_path2, bigtiff=True) as tif:\n",
    "            for image in all_bottom_images:\n",
    "                tif.write(image)\n",
    "    "
   ]
  },
  {
   "cell_type": "code",
   "execution_count": 3,
   "metadata": {},
   "outputs": [
    {
     "ename": "",
     "evalue": "",
     "output_type": "error",
     "traceback": [
      "\u001b[1;31mThe Kernel crashed while executing code in the current cell or a previous cell. \n",
      "\u001b[1;31mPlease review the code in the cell(s) to identify a possible cause of the failure. \n",
      "\u001b[1;31mClick <a href='https://aka.ms/vscodeJupyterKernelCrash'>here</a> for more info. \n",
      "\u001b[1;31mView Jupyter <a href='command:jupyter.viewOutput'>log</a> for further details."
     ]
    }
   ],
   "source": [
    "mc_img_folders = [\n",
    "                  #r'Z:\\TM_Lab\\Edward\\Cerebellum_Imaging\\Q_R2\\20240415\\acq1\\suite2p\\plane0\\reg_tif',\n",
    "                  #r'Z:\\TM_Lab\\Edward\\Cerebellum_Imaging\\O_L2\\20240415\\suite2p\\plane0\\reg_tif',\n",
    "                  r'Z:\\TM_Lab\\Edward\\Cerebellum_Imaging\\Pcp2-jgcamp8m\\A_R2\\soma\\suite2p\\plane0\\reg_tif',\n",
    "                  r'Z:\\TM_Lab\\Edward\\Cerebellum_Imaging\\Pcp2-jgcamp8m\\A_R2\\dendrite\\suite2p\\plane0\\reg_tif',\n",
    "                  ] # folder containing fragments of motion corrected tif from suite2p\n",
    "#test_img_folder = r'Z:\\TM_Lab\\Edward\\Cerebellum_Imaging\\O_L3\\20240326\\acq2\\test_tif' # folder containing fragments of motion corrected tif from suite2p\n",
    "# concatenate_tiffs_for_deep_interp(test_img_folder, num_roi=2)\n",
    "for folder in mc_img_folders:\n",
    "    concatenate_tiffs_for_deep_interp(folder, num_roi=2)"
   ]
  },
  {
   "cell_type": "code",
   "execution_count": 3,
   "metadata": {},
   "outputs": [],
   "source": [
    "def convert_h5_to_tif(h5_file_path, tif_file_path, dataset_name):\n",
    "    \"\"\"\n",
    "    Convert a dataset from an HDF5 file to a TIFF file.\n",
    "\n",
    "    Parameters:\n",
    "    - h5_file_path: Path to the input HDF5 file.\n",
    "    - tif_file_path: Path to the output TIFF file.\n",
    "    - dataset_name: Name of the dataset within the HDF5 file to convert.\n",
    "    \"\"\"\n",
    "    with h5py.File(h5_file_path, 'r') as h5_file:\n",
    "        # Access the specified dataset in the HDF5 file\n",
    "        dataset = h5_file[dataset_name][()]\n",
    "        \n",
    "        # Save the dataset as a TIFF file\n",
    "        tifffile.imwrite(tif_file_path, dataset, photometric='minisblack')"
   ]
  },
  {
   "cell_type": "code",
   "execution_count": 4,
   "metadata": {},
   "outputs": [],
   "source": [
    "h5_file_paths = [\n",
    "                        r'Z:\\TM_Lab\\Edward\\Cerebellum_Imaging\\Pcp2-jgcamp8m\\A_R2\\dendrite\\concatenated_top_images_interped.h5',\n",
    "                        r'Z:\\TM_Lab\\Edward\\Cerebellum_Imaging\\Pcp2-jgcamp8m\\A_R2\\dendrite\\concatenated_bottom_images_interped.h5',\n",
    "                        ]\n",
    "tif_file_paths = [x.replace('.h5', '.tif') for x in h5_file_paths]\n",
    "for i in range(len(h5_file_paths)):\n",
    "    convert_h5_to_tif(h5_file_paths[i], tif_file_paths[i], \"data\")"
   ]
  },
  {
   "cell_type": "code",
   "execution_count": 9,
   "metadata": {},
   "outputs": [],
   "source": [
    "def convert_h5_to_stitched_tif(left_h5_file_path, right_h5_file_path, tif_file_path, left_dataset_name = \"data\", right_dataset_name = \"data\"):\n",
    "    \"\"\"\n",
    "    Convert datasets from two HDF5 files (left and right image stacks) to a single stitched TIFF file.\n",
    "\n",
    "    Parameters:\n",
    "    - left_h5_file_path: Path to the input HDF5 file containing left image stacks.\n",
    "    - right_h5_file_path: Path to the input HDF5 file containing right image stacks.\n",
    "    - tif_file_path: Path to the output stitched TIFF file.\n",
    "    - left_dataset_name: Name of the dataset within the left HDF5 file.\n",
    "    - right_dataset_name: Name of the dataset within the right HDF5 file.\n",
    "    \"\"\"\n",
    "    with h5py.File(left_h5_file_path, 'r') as left_h5_file, h5py.File(right_h5_file_path, 'r') as right_h5_file:\n",
    "        # Access the specified datasets in the HDF5 files\n",
    "        left_dataset = left_h5_file[left_dataset_name][()]\n",
    "        right_dataset = right_h5_file[right_dataset_name][()]\n",
    "        \n",
    "        # Check that the number of frames in both datasets are the same\n",
    "        assert left_dataset.shape[0] == right_dataset.shape[0], \"Left and right datasets must have the same number of frames\"\n",
    "        \n",
    "        # List to hold stitched frames\n",
    "        stitched_frames = []\n",
    "        \n",
    "        # Iterate over each frame and stitch the left and right images\n",
    "        for left_frame, right_frame in zip(left_dataset, right_dataset):\n",
    "            # Stitch the images side-by-side\n",
    "            stitched_frame = np.hstack((left_frame, right_frame))\n",
    "            stitched_frames.append(stitched_frame)\n",
    "        \n",
    "        # Save the stitched frames as a TIFF file\n",
    "        tifffile.imwrite(tif_file_path, stitched_frames, photometric='minisblack', bigtiff=True)\n",
    "\n",
    "h5_file_paths = [\n",
    "                        r'Z:\\TM_Lab\\Edward\\Cerebellum_Imaging\\Pcp2-jgcamp8m\\A_R2\\soma\\concatenated_top_images_interped.h5',\n",
    "                        r'Z:\\TM_Lab\\Edward\\Cerebellum_Imaging\\Pcp2-jgcamp8m\\A_R2\\soma\\concatenated_bottom_images_interped.h5',\n",
    "                        ]\n",
    "tif_file_path = os.path.join(os.path.dirname(h5_file_paths[0]), \"deep_interped_combined_images.tif\")\n",
    "convert_h5_to_stitched_tif(left_h5_file_path = h5_file_paths[0], right_h5_file_path = h5_file_paths[1], tif_file_path=tif_file_path)\n"
   ]
  },
  {
   "cell_type": "code",
   "execution_count": 7,
   "metadata": {},
   "outputs": [],
   "source": [
    "def concatenate_tiffs_left_right_roi(file1, file2, output_file):\n",
    "    with tifffile.TiffFile(file1) as tif1, tifffile.TiffFile(file2) as tif2:\n",
    "        # Check if the number of frames and the heights are the same\n",
    "        if len(tif1.pages) != len(tif2.pages):\n",
    "            print(\"The TIFF files do not have the same number of frames and cannot be concatenated.\")\n",
    "            return\n",
    "\n",
    "        concatenated_frames = []\n",
    "        for page1, page2 in zip(tif1.pages, tif2.pages):\n",
    "            img1 = page1.asarray()\n",
    "            img2 = page2.asarray()\n",
    "            \n",
    "            if img1.shape[0] != img2.shape[0]:\n",
    "                print(\"The TIFF frames do not have the same height and cannot be concatenated.\")\n",
    "                return\n",
    "            \n",
    "            concatenated_img = np.concatenate((img1, img2), axis=1)\n",
    "            concatenated_frames.append(concatenated_img)\n",
    "\n",
    "        # Save the concatenated image\n",
    "        with tifffile.TiffWriter(output_file, bigtiff=True) as tif_writer:\n",
    "            for frame in concatenated_frames:\n",
    "                tif_writer.write(frame, photometric='minisblack')\n",
    "        \n",
    "        print(f\"Concatenated TIFF saved as {output_file}.\")"
   ]
  },
  {
   "cell_type": "code",
   "execution_count": 8,
   "metadata": {},
   "outputs": [
    {
     "name": "stdout",
     "output_type": "stream",
     "text": [
      "Concatenated TIFF saved as Z:\\TM_Lab\\Edward\\Cerebellum_Imaging\\Pcp2-jgcamp8m\\A_R2\\dendrite\\raw_combined_images.tif.\n"
     ]
    }
   ],
   "source": [
    "left_roi_tif = r\"Z:\\TM_Lab\\Edward\\Cerebellum_Imaging\\Pcp2-jgcamp8m\\A_R2\\soma\\concatenated_top_images.tif\"\n",
    "right_roi_tif = r\"Z:\\TM_Lab\\Edward\\Cerebellum_Imaging\\Pcp2-jgcamp8m\\A_R2\\soma\\concatenated_bottom_images.tif\"\n",
    "outfile = os.path.join(os.path.dirname(left_roi_tif), \"raw_combined_images.tif\")\n",
    "concatenate_tiffs_left_right_roi(left_roi_tif, right_roi_tif, outfile)"
   ]
  },
  {
   "cell_type": "code",
   "execution_count": 2,
   "metadata": {},
   "outputs": [
    {
     "ename": "",
     "evalue": "",
     "output_type": "error",
     "traceback": [
      "\u001b[1;31mCannot execute code, session has been disposed. Please try restarting the Kernel."
     ]
    },
    {
     "ename": "",
     "evalue": "",
     "output_type": "error",
     "traceback": [
      "\u001b[1;31mCannot execute code, session has been disposed. Please try restarting the Kernel. \n",
      "\u001b[1;31mView Jupyter <a href='command:jupyter.viewOutput'>log</a> for further details."
     ]
    }
   ],
   "source": [
    "img_path = r'Z:\\TM_Lab\\Edward\\Cerebellum_Imaging\\Pcp2-jgcamp8m\\A_R2\\20240821\\arm1\\arm1_150sq_1024pix_15hz_etl115_00002.tif'\n",
    "reader=ScanImageTiffReader(img_path)"
   ]
  },
  {
   "cell_type": "code",
   "execution_count": 14,
   "metadata": {},
   "outputs": [],
   "source": [
    "tifffilepath = r'Z:\\TM_Lab\\Edward\\Cerebellum_Imaging\\Pcp2-jgcamp8m\\A_R3\\linear_reference_20241126_00002.tif'\n",
    "stack = []\n",
    "mean_fluo = []\n",
    "with tifffile.TiffFile(tifffilepath) as tif:\n",
    "        for ind, page in enumerate(tif.pages):\n",
    "            #if ind>26000 and ind<28000:\n",
    "            image = page.asarray()\n",
    "            stack.append(image)\n",
    "            mean_fluo.append(np.mean(image))\n",
    "            "
   ]
  },
  {
   "cell_type": "code",
   "execution_count": 15,
   "metadata": {},
   "outputs": [],
   "source": [
    "mean_img = np.mean(np.stack(stack), axis=0)\n",
    "np.save(r'Z:\\TM_Lab\\Edward\\Cerebellum_Imaging\\Pcp2-jgcamp8m\\A_R3\\linear_ref.npy',mean_img)"
   ]
  },
  {
   "cell_type": "code",
   "execution_count": 3,
   "metadata": {},
   "outputs": [
    {
     "name": "stdout",
     "output_type": "stream",
     "text": [
      "(1024, 1024)\n",
      "(1024, 1024)\n",
      "(1024, 1024)\n",
      "(1024, 1024)\n",
      "(1024, 1024)\n",
      "(1024, 1024)\n",
      "(1024, 1024)\n"
     ]
    }
   ],
   "source": [
    "paths = [\n",
    "    # r'Z:\\TM_Lab\\Edward\\Cerebellum_Imaging\\Pcp2-jgcamp8m\\A_R2\\20240815',\n",
    "    # r'Z:\\TM_Lab\\Edward\\Cerebellum_Imaging\\Pcp2-jgcamp8m\\A_R2\\20240821',\n",
    "     r'Z:\\TM_Lab\\Edward\\Cerebellum_Imaging\\Pcp2-jgcamp8m\\A_R3\\20240904',\n",
    "     r'Z:\\TM_Lab\\Edward\\Cerebellum_Imaging\\Pcp2-jgcamp8m\\A_R3\\20240910',\n",
    "     r'Z:\\TM_Lab\\Edward\\Cerebellum_Imaging\\Pcp2-jgcamp8m\\A_R3\\20240918',\n",
    "     r'Z:\\TM_Lab\\Edward\\Cerebellum_Imaging\\Pcp2-jgcamp8m\\A_R3\\20240924',\n",
    "     #r'Z:\\TM_Lab\\Edward\\Cerebellum_Imaging\\Pcp2-jgcamp8m\\A_R2\\20241015',\n",
    "     r'Z:\\TM_Lab\\Edward\\Cerebellum_Imaging\\Pcp2-jgcamp8m\\A_R3\\20241018',\n",
    "     r'Z:\\TM_Lab\\Edward\\Cerebellum_Imaging\\Pcp2-jgcamp8m\\A_R3\\20241111',\n",
    "    #  r'Z:\\TM_Lab\\Edward\\Cerebellum_Imaging\\Pcp2-jgcamp8m\\A_L2\\20241115',\n",
    "     r'Z:\\TM_Lab\\Edward\\Cerebellum_Imaging\\Pcp2-jgcamp8m\\A_R3\\20241119',\n",
    "]\n",
    "for path in paths:\n",
    "    subdir = [d for d in os.listdir(path)]\n",
    "    if 'arm1' in subdir:\n",
    "        arm1dir = os.path.join(path,'arm1')\n",
    "        arm1_tiff = find_tif_file(arm1dir)\n",
    "        arm1_stack = []\n",
    "        with tifffile.TiffFile(arm1_tiff) as tif:\n",
    "                for ind, page in enumerate(tif.pages):\n",
    "                    if ind>100 and ind<300:\n",
    "                        image = page.asarray()\n",
    "                        arm1_stack.append(image)\n",
    "        mean_arm1_img = np.mean(np.stack(arm1_stack), axis=0)\n",
    "        print(mean_arm1_img.shape)\n",
    "        np.save(os.path.join(arm1dir, 'mean_img.npy'), mean_arm1_img)\n",
    "    if 'arm2' in subdir:\n",
    "        arm2dir = os.path.join(path,'arm2')\n",
    "        arm2_tiff = find_tif_file(arm2dir)\n",
    "        arm2_stack = []\n",
    "        with tifffile.TiffFile(arm2_tiff) as tif:\n",
    "                for ind, page in enumerate(tif.pages):\n",
    "                    if ind>100 and ind<300:\n",
    "                        image = page.asarray()\n",
    "                        arm2_stack.append(image)\n",
    "        mean_arm2_img = np.mean(np.stack(arm2_stack), axis=0)\n",
    "        np.save(os.path.join(arm2dir, 'mean_img.npy'), mean_arm2_img)"
   ]
  },
  {
   "cell_type": "code",
   "execution_count": null,
   "metadata": {},
   "outputs": [
    {
     "ename": "KeyboardInterrupt",
     "evalue": "",
     "output_type": "error",
     "traceback": [
      "\u001b[1;31m---------------------------------------------------------------------------\u001b[0m",
      "\u001b[1;31mKeyboardInterrupt\u001b[0m                         Traceback (most recent call last)",
      "Cell \u001b[1;32mIn[32], line 4\u001b[0m\n\u001b[0;32m      2\u001b[0m pulse_array \u001b[38;5;241m=\u001b[39m np\u001b[38;5;241m.\u001b[39marray([])\n\u001b[0;32m      3\u001b[0m \u001b[38;5;28;01mfor\u001b[39;00m i \u001b[38;5;129;01min\u001b[39;00m \u001b[38;5;28mrange\u001b[39m(\u001b[38;5;28mlen\u001b[39m(pulsestack)):\n\u001b[1;32m----> 4\u001b[0m     pulse_array \u001b[38;5;241m=\u001b[39m \u001b[43mnp\u001b[49m\u001b[38;5;241;43m.\u001b[39;49m\u001b[43mconcatenate\u001b[49m\u001b[43m(\u001b[49m\u001b[43m(\u001b[49m\u001b[43mpulse_array\u001b[49m\u001b[43m,\u001b[49m\u001b[43mpulsestack\u001b[49m\u001b[43m[\u001b[49m\u001b[43mi\u001b[49m\u001b[43m]\u001b[49m\u001b[38;5;241;43m.\u001b[39;49m\u001b[43mflatten\u001b[49m\u001b[43m(\u001b[49m\u001b[43m)\u001b[49m\u001b[43m)\u001b[49m\u001b[43m)\u001b[49m\n",
      "File \u001b[1;32m<__array_function__ internals>:200\u001b[0m, in \u001b[0;36mconcatenate\u001b[1;34m(*args, **kwargs)\u001b[0m\n",
      "\u001b[1;31mKeyboardInterrupt\u001b[0m: "
     ]
    }
   ],
   "source": [
    "\n",
    "pulsestack = stack[1:1000:2]\n",
    "pulse_array = np.array([])\n",
    "for i in range(len(pulsestack)):\n",
    "    pulse_array = np.concatenate((pulse_array,pulsestack[i].flatten()))\n"
   ]
  },
  {
   "cell_type": "code",
   "execution_count": 39,
   "metadata": {},
   "outputs": [
    {
     "data": {
      "text/plain": [
       "[<matplotlib.lines.Line2D at 0x1eb801d4100>]"
      ]
     },
     "execution_count": 39,
     "metadata": {},
     "output_type": "execute_result"
    },
    {
     "data": {
      "image/png": "[encoded data removed]",
      "text/plain": [
       "<Figure size 640x480 with 1 Axes>"
      ]
     },
     "metadata": {},
     "output_type": "display_data"
    }
   ],
   "source": [
    "plt.plot(pulsestack[0].flatten()[:500])"
   ]
  },
  {
   "cell_type": "code",
   "execution_count": 23,
   "metadata": {},
   "outputs": [],
   "source": [
    "stack1 = stack.copy()\n",
    "for i in range(40):\n",
    "    stack1[i] = stack[40]"
   ]
  },
  {
   "cell_type": "code",
   "execution_count": 15,
   "metadata": {},
   "outputs": [],
   "source": [
    "mean_fluo1 = [np.mean(image) for image in stack1[:100]]"
   ]
  },
  {
   "cell_type": "code",
   "execution_count": 18,
   "metadata": {},
   "outputs": [
    {
     "name": "stdout",
     "output_type": "stream",
     "text": [
      "0/43200 frames done\n",
      "1000/43200 frames done\n",
      "2000/43200 frames done\n",
      "3000/43200 frames done\n",
      "4000/43200 frames done\n",
      "5000/43200 frames done\n",
      "6000/43200 frames done\n",
      "7000/43200 frames done\n",
      "8000/43200 frames done\n",
      "9000/43200 frames done\n",
      "10000/43200 frames done\n",
      "11000/43200 frames done\n",
      "12000/43200 frames done\n",
      "13000/43200 frames done\n",
      "14000/43200 frames done\n",
      "15000/43200 frames done\n",
      "16000/43200 frames done\n",
      "17000/43200 frames done\n",
      "18000/43200 frames done\n",
      "19000/43200 frames done\n",
      "20000/43200 frames done\n",
      "21000/43200 frames done\n",
      "22000/43200 frames done\n",
      "23000/43200 frames done\n",
      "24000/43200 frames done\n",
      "25000/43200 frames done\n",
      "26000/43200 frames done\n",
      "27000/43200 frames done\n",
      "28000/43200 frames done\n",
      "29000/43200 frames done\n",
      "30000/43200 frames done\n",
      "31000/43200 frames done\n",
      "32000/43200 frames done\n",
      "33000/43200 frames done\n",
      "34000/43200 frames done\n",
      "35000/43200 frames done\n",
      "36000/43200 frames done\n",
      "37000/43200 frames done\n",
      "38000/43200 frames done\n",
      "39000/43200 frames done\n",
      "40000/43200 frames done\n",
      "41000/43200 frames done\n",
      "42000/43200 frames done\n",
      "43000/43200 frames done\n"
     ]
    }
   ],
   "source": [
    "substack = stack1[:43200]\n",
    "# Save the adjusted images as a new TIFF file\n",
    "output_file_path = r'Z:\\TM_Lab\\Edward\\Cerebellum_Imaging\\Pcp2-jgcamp8m\\A_R2\\20240821\\arm1\\arm1_150sq_1024pix_15hz_etl115_00002_modified.tif'\n",
    "with tifffile.TiffWriter(output_file_path, bigtiff=True) as tif:\n",
    "    for ind,image in enumerate(substack):\n",
    "        tif.write(image)\n",
    "        if ind%1000==0:\n",
    "                print(f'{ind}/{len(substack)} frames done')"
   ]
  },
  {
   "cell_type": "code",
   "execution_count": 24,
   "metadata": {},
   "outputs": [
    {
     "name": "stdout",
     "output_type": "stream",
     "text": [
      "Frame: 14317 Height: 1040 Width: 512\n"
     ]
    }
   ],
   "source": [
    "vol=reader.data()\n",
    "print('Frame: %s Height: %s Width: %s' %(vol.shape[0], vol.shape[1], vol.shape[2]))"
   ]
  },
  {
   "cell_type": "code",
   "execution_count": null,
   "metadata": {},
   "outputs": [],
   "source": [
    "frames_metadata = []\n",
    "\n",
    "with ScanImageTiffReader(img_path) as reader:\n",
    "    num_frames = reader.shape()[0]  # Assuming the first dimension represents frames\n",
    "    \n",
    "    for i in range(num_frames):\n",
    "        description = reader.description(i)\n",
    "        frame_metadata = {}  # Dictionary to hold this frame's metadata\n",
    "        \n",
    "        for line in description.split('\\n'):\n",
    "            if '=' in line:  # Ensure there's a key-value pair to parse\n",
    "                key, value = line.split('=', 1)  # Split by the first '='\n",
    "                key = key.strip()\n",
    "                \n",
    "                try:\n",
    "                    # Safely evaluate the value string to the appropriate Python data type\n",
    "                    # This works for numbers, lists, dictionaries, etc.\n",
    "                    value = ast.literal_eval(value.strip())\n",
    "                except (ValueError, SyntaxError):\n",
    "                    # If evaluation fails, keep the value as a string\n",
    "                    value = value.strip()\n",
    "                \n",
    "                frame_metadata[key] = value\n",
    "        \n",
    "        frames_metadata.append(frame_metadata)\n"
   ]
  },
  {
   "cell_type": "code",
   "execution_count": 37,
   "metadata": {},
   "outputs": [
    {
     "data": {
      "text/plain": [
       "{'frameNumbers': 1,\n",
       " 'acquisitionNumbers': 1,\n",
       " 'frameNumberAcquisition': 1,\n",
       " 'frameTimestamps_sec': 0.0,\n",
       " 'acqTriggerTimestamps_sec': -0.00011737,\n",
       " 'nextFileMarkerTimestamps_sec': -1.0,\n",
       " 'endOfAcquisition': 0,\n",
       " 'endOfAcquisitionMode': 0,\n",
       " 'dcOverVoltage': 0,\n",
       " 'epoch': '[2024  3  5 12 25 15.238]',\n",
       " 'auxTrigger0': [],\n",
       " 'auxTrigger1': [],\n",
       " 'auxTrigger2': [],\n",
       " 'auxTrigger3': [],\n",
       " 'I2CData': {}}"
      ]
     },
     "execution_count": 37,
     "metadata": {},
     "output_type": "execute_result"
    }
   ],
   "source": [
    "frames_metadata[0]"
   ]
  },
  {
   "cell_type": "code",
   "execution_count": 38,
   "metadata": {},
   "outputs": [],
   "source": [
    "all_auxTrigger0 = []\n",
    "\n",
    "# Iterate through each frame's metadata\n",
    "for frame_metadata in frames_metadata:\n",
    "    # Check if 'auxTrigger0' exists and is not empty\n",
    "    if 'auxTrigger0' in frame_metadata and frame_metadata['auxTrigger0']:\n",
    "        # Extend the all_auxTrigger0 list with the numbers from this frame's auxTrigger0\n",
    "        all_auxTrigger0.extend(frame_metadata['auxTrigger0'])"
   ]
  },
  {
   "cell_type": "code",
   "execution_count": 39,
   "metadata": {},
   "outputs": [
    {
     "data": {
      "text/plain": [
       "[33.78155021,\n",
       " 45.68120846,\n",
       " 46.73831696,\n",
       " 57.58207253,\n",
       " 58.64988146,\n",
       " 67.60462751,\n",
       " 68.66533688,\n",
       " 76.1923746,\n",
       " 77.24698399,\n",
       " 89.06634541,\n",
       " 90.20465545,\n",
       " 99.51650445,\n",
       " 100.57881332,\n",
       " 106.30794343,\n",
       " 107.3560526,\n",
       " 119.87042058,\n",
       " 120.94502926,\n",
       " 130.54347846,\n",
       " 131.60688759,\n",
       " 144.02305433,\n",
       " 145.0975635,\n",
       " 154.54891217,\n",
       " 155.61202118,\n",
       " 167.29938358,\n",
       " 168.37039251,\n",
       " 176.15663213,\n",
       " 177.21324122,\n",
       " 187.68489387,\n",
       " 188.75160327]"
      ]
     },
     "execution_count": 39,
     "metadata": {},
     "output_type": "execute_result"
    }
   ],
   "source": [
    "all_auxTrigger0"
   ]
  },
  {
   "cell_type": "code",
   "execution_count": 34,
   "metadata": {},
   "outputs": [
    {
     "name": "stdout",
     "output_type": "stream",
     "text": [
      "<class 'str'>\n",
      "frameNumbers = 2\n",
      "acquisitionNumbers = 1\n",
      "frameNumberAcquisition = 2\n",
      "frameTimestamps_sec = 0.065715060\n",
      "acqTriggerTimestamps_sec = -1.000000000\n",
      "nextFileMarkerTimestamps_sec = -1.000000000\n",
      "endOfAcquisition = 0\n",
      "endOfAcquisitionMode = 0\n",
      "dcOverVoltage = 0\n",
      "epoch = [2024  3  5 12 25 15.238]\n",
      "auxTrigger0 = []\n",
      "auxTrigger1 = []\n",
      "auxTrigger2 = []\n",
      "auxTrigger3 = []\n",
      "I2CData = {}\n",
      "                                                                                                                                                                                                                                                                                                                                                                                                                                                                                                                                                                                                                                                                                                                                                                                                                                                                                                                                                                                                                                                                                                                                                                                                                                                                                                                                                                                                                                                                                                                                                                                                                                                                                                    \n",
      "3000\n"
     ]
    }
   ],
   "source": [
    "with ScanImageTiffReader(img_path) as reader:\n",
    "    description = reader.description(1)\n",
    "    print(type(description))\n",
    "    print(description)\n",
    "    print(reader.shape()[0])"
   ]
  },
  {
   "cell_type": "code",
   "execution_count": null,
   "metadata": {},
   "outputs": [],
   "source": [
    "with ScanImageTiffReader(img_path) as reader:\n",
    "    o=json.loads(reader.metadata())\n",
    "    print(o[\"RoiGroups\"][\"imagingRoiGroup\"][\"rois\"][\"scanfields\"][\"affine\"])"
   ]
  },
  {
   "cell_type": "code",
   "execution_count": null,
   "metadata": {},
   "outputs": [],
   "source": []
  }
 ],
 "metadata": {
  "kernelspec": {
   "display_name": "iblenv",
   "language": "python",
   "name": "python3"
  },
  "language_info": {
   "codemirror_mode": {
    "name": "ipython",
    "version": 3
   },
   "file_extension": ".py",
   "mimetype": "text/x-python",
   "name": "python",
   "nbconvert_exporter": "python",
   "pygments_lexer": "ipython3",
   "version": "3.10.13"
  },
  "orig_nbformat": 4
 },
 "nbformat": 4,
 "nbformat_minor": 2
}

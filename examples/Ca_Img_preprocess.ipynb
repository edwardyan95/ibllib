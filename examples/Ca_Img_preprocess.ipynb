{
 "cells": [
  {
   "cell_type": "code",
   "execution_count": 1,
   "metadata": {},
   "outputs": [],
   "source": [
    "from ScanImageTiffReader import ScanImageTiffReader\n",
    "import json\n",
    "import ast\n",
    "from PIL import Image\n",
    "import os\n",
    "import tifffile\n",
    "import numpy as np\n",
    "import h5py"
   ]
  },
  {
   "cell_type": "code",
   "execution_count": 21,
   "metadata": {},
   "outputs": [],
   "source": [
    "mc_img_folder = r'H:\\Cerebellum_Imaging\\Q_R2\\20240320\\acq1\\suite2p\\plane0\\reg_tif' # folder containing fragments of motion corrected tif from suite2p\n",
    "test_img_folder = r'H:\\Cerebellum_Imaging\\Q_R2\\20240320\\acq1\\test_deepinterp' # folder containing fragments of motion corrected tif from suite2p"
   ]
  },
  {
   "cell_type": "code",
   "execution_count": 5,
   "metadata": {},
   "outputs": [],
   "source": [
    "def crop_or_pad(image, target_width, target_height):\n",
    "    \"\"\"\n",
    "    Pad or crop the image to make it 512x512.\n",
    "    \"\"\"\n",
    "    # Crop if larger\n",
    "    if image.shape[0] > target_height or image.shape[1] > target_width:\n",
    "        # Center crop to 512x512\n",
    "        startx = image.shape[1]//2 - (target_width//2)\n",
    "        starty = image.shape[0]//2 - (target_height//2)    \n",
    "        image = image[starty:starty+target_height, startx:startx+target_width]\n",
    "    # Pad if smaller\n",
    "    if image.shape[0] < target_height or image.shape[1] < target_width:\n",
    "        # Calculate padding sizes\n",
    "        pad_x = (target_width - image.shape[1]) // 2\n",
    "        pad_y = (target_height - image.shape[0]) // 2\n",
    "        image = np.pad(image, [(pad_y, target_height - image.shape[0] - pad_y), (pad_x, target_width - image.shape[1] - pad_x)], mode='constant')\n",
    "    return image\n",
    "def concatenate_tiffs_for_deep_interp(folder_path, num_roi):\n",
    "    # target output, 512x512\n",
    "    tiff_files = [f for f in os.listdir(folder_path) if f.endswith('.tif')]\n",
    "    tiff_files.sort()  # Ensure files are in the desired order\n",
    "\n",
    "    if num_roi == 1:\n",
    "        all_images = []\n",
    "\n",
    "        for tiff_file in tiff_files:\n",
    "            with tifffile.TiffFile(os.path.join(folder_path, tiff_file)) as tif:\n",
    "                for page in tif.pages:\n",
    "                    image = page.asarray()\n",
    "                    # Adjust each image to be 512x512\n",
    "                    processed_image = crop_or_pad(image, 512, 512)\n",
    "                    all_images.append(processed_image)\n",
    "\n",
    "        # Save the adjusted images as a new TIFF file\n",
    "        output_file_path = os.path.join(folder_path, 'concatenated_adjusted_output.tif')\n",
    "        with tifffile.TiffWriter(output_file_path, bigtiff=True) as tif:\n",
    "            for image in all_images:\n",
    "                tif.write(image)\n",
    "\n",
    "    elif num_roi == 2:\n",
    "        all_top_images = []\n",
    "        all_bottom_images = []\n",
    "        for tiff_file in tiff_files:\n",
    "            with tifffile.TiffFile(os.path.join(folder_path, tiff_file)) as tif:\n",
    "                for page in tif.pages:\n",
    "                    image = page.asarray()\n",
    "                    # Adjust each image to be 512x512\n",
    "                    processed_image = crop_or_pad(image, 512, 1024)\n",
    "                    all_top_images.append(processed_image[:512, :])\n",
    "                    all_bottom_images.append(processed_image[512:, :])\n",
    "\n",
    "        # Save the adjusted images as a new TIFF file\n",
    "        output_file_path1 = os.path.join(folder_path, 'concatenated_top_images.tif')\n",
    "        output_file_path2 = os.path.join(folder_path, 'concatenated_bottom_images.tif')\n",
    "        with tifffile.TiffWriter(output_file_path1, bigtiff=True) as tif:\n",
    "            for image in all_top_images:\n",
    "                tif.write(image)\n",
    "        with tifffile.TiffWriter(output_file_path2, bigtiff=True) as tif:\n",
    "            for image in all_bottom_images:\n",
    "                tif.write(image)\n",
    "    "
   ]
  },
  {
   "cell_type": "code",
   "execution_count": 8,
   "metadata": {},
   "outputs": [],
   "source": [
    "concatenate_tiffs_for_deep_interp(test_img_folder, num_roi=2)"
   ]
  },
  {
   "cell_type": "code",
   "execution_count": 22,
   "metadata": {},
   "outputs": [],
   "source": [
    "concatenate_tiffs_for_deep_interp(mc_img_folder, num_roi=2)"
   ]
  },
  {
   "cell_type": "code",
   "execution_count": 13,
   "metadata": {},
   "outputs": [],
   "source": [
    "def convert_h5_to_tif(h5_file_path, tif_file_path, dataset_name):\n",
    "    \"\"\"\n",
    "    Convert a dataset from an HDF5 file to a TIFF file.\n",
    "\n",
    "    Parameters:\n",
    "    - h5_file_path: Path to the input HDF5 file.\n",
    "    - tif_file_path: Path to the output TIFF file.\n",
    "    - dataset_name: Name of the dataset within the HDF5 file to convert.\n",
    "    \"\"\"\n",
    "    with h5py.File(h5_file_path, 'r') as h5_file:\n",
    "        # Access the specified dataset in the HDF5 file\n",
    "        dataset = h5_file[dataset_name][()]\n",
    "        \n",
    "        # Save the dataset as a TIFF file\n",
    "        tifffile.imwrite(tif_file_path, dataset, photometric='minisblack')"
   ]
  },
  {
   "cell_type": "code",
   "execution_count": 20,
   "metadata": {},
   "outputs": [],
   "source": [
    "h5_file_path = r\"H:\\Cerebellum_Imaging\\Q_R2\\20240320\\acq1\\test_deepinterp\\concatenated_top_images_interped.h5\"\n",
    "tif_file_path = r\"H:\\Cerebellum_Imaging\\Q_R2\\20240320\\acq1\\test_deepinterp\\concatenated_top_images_interped.tif\"\n",
    "convert_h5_to_tif(h5_file_path, tif_file_path, \"data\")"
   ]
  },
  {
   "cell_type": "code",
   "execution_count": 19,
   "metadata": {},
   "outputs": [
    {
     "data": {
      "text/plain": [
       "(440, 512, 512)"
      ]
     },
     "execution_count": 19,
     "metadata": {},
     "output_type": "execute_result"
    }
   ],
   "source": [
    "dataset.shape"
   ]
  },
  {
   "cell_type": "code",
   "execution_count": 2,
   "metadata": {},
   "outputs": [
    {
     "ename": "Exception",
     "evalue": "Could not open file.",
     "output_type": "error",
     "traceback": [
      "\u001b[1;31m---------------------------------------------------------------------------\u001b[0m",
      "\u001b[1;31mException\u001b[0m                                 Traceback (most recent call last)",
      "Cell \u001b[1;32mIn[2], line 2\u001b[0m\n\u001b[0;32m      1\u001b[0m img_path \u001b[38;5;241m=\u001b[39m \u001b[38;5;124mr\u001b[39m\u001b[38;5;124m'\u001b[39m\u001b[38;5;124mH:\u001b[39m\u001b[38;5;124m\\\u001b[39m\u001b[38;5;124mCerebellum_Imaging\u001b[39m\u001b[38;5;124m\\\u001b[39m\u001b[38;5;124mQ_R2\u001b[39m\u001b[38;5;124m\\\u001b[39m\u001b[38;5;124m20240320\u001b[39m\u001b[38;5;124m\\\u001b[39m\u001b[38;5;124macq1\u001b[39m\u001b[38;5;124m\\\u001b[39m\u001b[38;5;124macq1_hab1_2roi_15hz_superficial_00001.tif\u001b[39m\u001b[38;5;124m'\u001b[39m\n\u001b[1;32m----> 2\u001b[0m reader\u001b[38;5;241m=\u001b[39m\u001b[43mScanImageTiffReader\u001b[49m\u001b[43m(\u001b[49m\u001b[43mimg_path\u001b[49m\u001b[43m)\u001b[49m\n",
      "File \u001b[1;32mc:\\Users\\edwar\\anaconda3\\envs\\iblenv\\lib\\site-packages\\ScanImageTiffReader\\__init__.py:173\u001b[0m, in \u001b[0;36mScanImageTiffReader.__init__\u001b[1;34m(self, filename)\u001b[0m\n\u001b[0;32m    164\u001b[0m \u001b[38;5;250m\u001b[39m\u001b[38;5;124;03m''' Opens a ScanImage tiff file for reading.\u001b[39;00m\n\u001b[0;32m    165\u001b[0m \n\u001b[0;32m    166\u001b[0m \u001b[38;5;124;03m:Example:\u001b[39;00m\n\u001b[1;32m   (...)\u001b[0m\n\u001b[0;32m    170\u001b[0m \u001b[38;5;124;03m>>> reader.close()\u001b[39;00m\n\u001b[0;32m    171\u001b[0m \u001b[38;5;124;03m'''\u001b[39;00m\n\u001b[0;32m    172\u001b[0m \u001b[38;5;28mself\u001b[39m\u001b[38;5;241m.\u001b[39m_is_open\u001b[38;5;241m=\u001b[39m\u001b[38;5;28;01mFalse\u001b[39;00m\n\u001b[1;32m--> 173\u001b[0m \u001b[38;5;28;43mself\u001b[39;49m\u001b[38;5;241;43m.\u001b[39;49m\u001b[43mopen\u001b[49m\u001b[43m(\u001b[49m\u001b[43mfilename\u001b[49m\u001b[43m)\u001b[49m\n",
      "File \u001b[1;32mc:\\Users\\edwar\\anaconda3\\envs\\iblenv\\lib\\site-packages\\ScanImageTiffReader\\__init__.py:222\u001b[0m, in \u001b[0;36mScanImageTiffReader.open\u001b[1;34m(self, filename)\u001b[0m\n\u001b[0;32m    220\u001b[0m \u001b[38;5;28mself\u001b[39m\u001b[38;5;241m.\u001b[39m__ctx\u001b[38;5;241m=\u001b[39m_api\u001b[38;5;241m.\u001b[39mopen(filename\u001b[38;5;241m.\u001b[39mencode(\u001b[38;5;124m\"\u001b[39m\u001b[38;5;124mutf8\u001b[39m\u001b[38;5;124m\"\u001b[39m))\n\u001b[0;32m    221\u001b[0m \u001b[38;5;28;01mif\u001b[39;00m \u001b[38;5;28mself\u001b[39m\u001b[38;5;241m.\u001b[39m__ctx\u001b[38;5;241m.\u001b[39mlog:\n\u001b[1;32m--> 222\u001b[0m     \u001b[38;5;28;01mraise\u001b[39;00m \u001b[38;5;167;01mException\u001b[39;00m(\u001b[38;5;28mself\u001b[39m\u001b[38;5;241m.\u001b[39m__ctx\u001b[38;5;241m.\u001b[39mlog\u001b[38;5;241m.\u001b[39mdecode(\u001b[38;5;124m\"\u001b[39m\u001b[38;5;124mutf-8\u001b[39m\u001b[38;5;124m\"\u001b[39m,\u001b[38;5;124m\"\u001b[39m\u001b[38;5;124mstrict\u001b[39m\u001b[38;5;124m\"\u001b[39m))\n\u001b[0;32m    223\u001b[0m \u001b[38;5;28mself\u001b[39m\u001b[38;5;241m.\u001b[39m_is_open\u001b[38;5;241m=\u001b[39m\u001b[38;5;28;01mTrue\u001b[39;00m\n",
      "\u001b[1;31mException\u001b[0m: Could not open file."
     ]
    }
   ],
   "source": [
    "img_path = r'H:\\Cerebellum_Imaging\\Q_R2\\20240320\\acq1\\acq1_hab1_2roi_15hz_superficial_00001.tif'\n",
    "reader=ScanImageTiffReader(img_path)"
   ]
  },
  {
   "cell_type": "code",
   "execution_count": 24,
   "metadata": {},
   "outputs": [
    {
     "name": "stdout",
     "output_type": "stream",
     "text": [
      "Frame: 14317 Height: 1040 Width: 512\n"
     ]
    }
   ],
   "source": [
    "vol=reader.data()\n",
    "print('Frame: %s Height: %s Width: %s' %(vol.shape[0], vol.shape[1], vol.shape[2]))"
   ]
  },
  {
   "cell_type": "code",
   "execution_count": 27,
   "metadata": {},
   "outputs": [
    {
     "ename": "Exception",
     "evalue": "Could not open file.",
     "output_type": "error",
     "traceback": [
      "\u001b[1;31m---------------------------------------------------------------------------\u001b[0m",
      "\u001b[1;31mException\u001b[0m                                 Traceback (most recent call last)",
      "Cell \u001b[1;32mIn[27], line 3\u001b[0m\n\u001b[0;32m      1\u001b[0m frames_metadata \u001b[38;5;241m=\u001b[39m []\n\u001b[1;32m----> 3\u001b[0m \u001b[38;5;28;01mwith\u001b[39;00m \u001b[43mScanImageTiffReader\u001b[49m\u001b[43m(\u001b[49m\u001b[43mimg_path\u001b[49m\u001b[43m)\u001b[49m \u001b[38;5;28;01mas\u001b[39;00m reader:\n\u001b[0;32m      4\u001b[0m     num_frames \u001b[38;5;241m=\u001b[39m reader\u001b[38;5;241m.\u001b[39mshape()[\u001b[38;5;241m0\u001b[39m]  \u001b[38;5;66;03m# Assuming the first dimension represents frames\u001b[39;00m\n\u001b[0;32m      6\u001b[0m     \u001b[38;5;28;01mfor\u001b[39;00m i \u001b[38;5;129;01min\u001b[39;00m \u001b[38;5;28mrange\u001b[39m(num_frames):\n",
      "File \u001b[1;32mc:\\Users\\edwar\\anaconda3\\envs\\iblenv\\lib\\site-packages\\ScanImageTiffReader\\__init__.py:173\u001b[0m, in \u001b[0;36mScanImageTiffReader.__init__\u001b[1;34m(self, filename)\u001b[0m\n\u001b[0;32m    164\u001b[0m \u001b[38;5;250m\u001b[39m\u001b[38;5;124;03m''' Opens a ScanImage tiff file for reading.\u001b[39;00m\n\u001b[0;32m    165\u001b[0m \n\u001b[0;32m    166\u001b[0m \u001b[38;5;124;03m:Example:\u001b[39;00m\n\u001b[1;32m   (...)\u001b[0m\n\u001b[0;32m    170\u001b[0m \u001b[38;5;124;03m>>> reader.close()\u001b[39;00m\n\u001b[0;32m    171\u001b[0m \u001b[38;5;124;03m'''\u001b[39;00m\n\u001b[0;32m    172\u001b[0m \u001b[38;5;28mself\u001b[39m\u001b[38;5;241m.\u001b[39m_is_open\u001b[38;5;241m=\u001b[39m\u001b[38;5;28;01mFalse\u001b[39;00m\n\u001b[1;32m--> 173\u001b[0m \u001b[38;5;28;43mself\u001b[39;49m\u001b[38;5;241;43m.\u001b[39;49m\u001b[43mopen\u001b[49m\u001b[43m(\u001b[49m\u001b[43mfilename\u001b[49m\u001b[43m)\u001b[49m\n",
      "File \u001b[1;32mc:\\Users\\edwar\\anaconda3\\envs\\iblenv\\lib\\site-packages\\ScanImageTiffReader\\__init__.py:222\u001b[0m, in \u001b[0;36mScanImageTiffReader.open\u001b[1;34m(self, filename)\u001b[0m\n\u001b[0;32m    220\u001b[0m \u001b[38;5;28mself\u001b[39m\u001b[38;5;241m.\u001b[39m__ctx\u001b[38;5;241m=\u001b[39m_api\u001b[38;5;241m.\u001b[39mopen(filename\u001b[38;5;241m.\u001b[39mencode(\u001b[38;5;124m\"\u001b[39m\u001b[38;5;124mutf8\u001b[39m\u001b[38;5;124m\"\u001b[39m))\n\u001b[0;32m    221\u001b[0m \u001b[38;5;28;01mif\u001b[39;00m \u001b[38;5;28mself\u001b[39m\u001b[38;5;241m.\u001b[39m__ctx\u001b[38;5;241m.\u001b[39mlog:\n\u001b[1;32m--> 222\u001b[0m     \u001b[38;5;28;01mraise\u001b[39;00m \u001b[38;5;167;01mException\u001b[39;00m(\u001b[38;5;28mself\u001b[39m\u001b[38;5;241m.\u001b[39m__ctx\u001b[38;5;241m.\u001b[39mlog\u001b[38;5;241m.\u001b[39mdecode(\u001b[38;5;124m\"\u001b[39m\u001b[38;5;124mutf-8\u001b[39m\u001b[38;5;124m\"\u001b[39m,\u001b[38;5;124m\"\u001b[39m\u001b[38;5;124mstrict\u001b[39m\u001b[38;5;124m\"\u001b[39m))\n\u001b[0;32m    223\u001b[0m \u001b[38;5;28mself\u001b[39m\u001b[38;5;241m.\u001b[39m_is_open\u001b[38;5;241m=\u001b[39m\u001b[38;5;28;01mTrue\u001b[39;00m\n",
      "\u001b[1;31mException\u001b[0m: Could not open file."
     ]
    }
   ],
   "source": [
    "frames_metadata = []\n",
    "\n",
    "with ScanImageTiffReader(img_path) as reader:\n",
    "    num_frames = reader.shape()[0]  # Assuming the first dimension represents frames\n",
    "    \n",
    "    for i in range(num_frames):\n",
    "        description = reader.description(i)\n",
    "        frame_metadata = {}  # Dictionary to hold this frame's metadata\n",
    "        \n",
    "        for line in description.split('\\n'):\n",
    "            if '=' in line:  # Ensure there's a key-value pair to parse\n",
    "                key, value = line.split('=', 1)  # Split by the first '='\n",
    "                key = key.strip()\n",
    "                \n",
    "                try:\n",
    "                    # Safely evaluate the value string to the appropriate Python data type\n",
    "                    # This works for numbers, lists, dictionaries, etc.\n",
    "                    value = ast.literal_eval(value.strip())\n",
    "                except (ValueError, SyntaxError):\n",
    "                    # If evaluation fails, keep the value as a string\n",
    "                    value = value.strip()\n",
    "                \n",
    "                frame_metadata[key] = value\n",
    "        \n",
    "        frames_metadata.append(frame_metadata)\n"
   ]
  },
  {
   "cell_type": "code",
   "execution_count": 37,
   "metadata": {},
   "outputs": [
    {
     "data": {
      "text/plain": [
       "{'frameNumbers': 1,\n",
       " 'acquisitionNumbers': 1,\n",
       " 'frameNumberAcquisition': 1,\n",
       " 'frameTimestamps_sec': 0.0,\n",
       " 'acqTriggerTimestamps_sec': -0.00011737,\n",
       " 'nextFileMarkerTimestamps_sec': -1.0,\n",
       " 'endOfAcquisition': 0,\n",
       " 'endOfAcquisitionMode': 0,\n",
       " 'dcOverVoltage': 0,\n",
       " 'epoch': '[2024  3  5 12 25 15.238]',\n",
       " 'auxTrigger0': [],\n",
       " 'auxTrigger1': [],\n",
       " 'auxTrigger2': [],\n",
       " 'auxTrigger3': [],\n",
       " 'I2CData': {}}"
      ]
     },
     "execution_count": 37,
     "metadata": {},
     "output_type": "execute_result"
    }
   ],
   "source": [
    "frames_metadata[0]"
   ]
  },
  {
   "cell_type": "code",
   "execution_count": 38,
   "metadata": {},
   "outputs": [],
   "source": [
    "all_auxTrigger0 = []\n",
    "\n",
    "# Iterate through each frame's metadata\n",
    "for frame_metadata in frames_metadata:\n",
    "    # Check if 'auxTrigger0' exists and is not empty\n",
    "    if 'auxTrigger0' in frame_metadata and frame_metadata['auxTrigger0']:\n",
    "        # Extend the all_auxTrigger0 list with the numbers from this frame's auxTrigger0\n",
    "        all_auxTrigger0.extend(frame_metadata['auxTrigger0'])"
   ]
  },
  {
   "cell_type": "code",
   "execution_count": 39,
   "metadata": {},
   "outputs": [
    {
     "data": {
      "text/plain": [
       "[33.78155021,\n",
       " 45.68120846,\n",
       " 46.73831696,\n",
       " 57.58207253,\n",
       " 58.64988146,\n",
       " 67.60462751,\n",
       " 68.66533688,\n",
       " 76.1923746,\n",
       " 77.24698399,\n",
       " 89.06634541,\n",
       " 90.20465545,\n",
       " 99.51650445,\n",
       " 100.57881332,\n",
       " 106.30794343,\n",
       " 107.3560526,\n",
       " 119.87042058,\n",
       " 120.94502926,\n",
       " 130.54347846,\n",
       " 131.60688759,\n",
       " 144.02305433,\n",
       " 145.0975635,\n",
       " 154.54891217,\n",
       " 155.61202118,\n",
       " 167.29938358,\n",
       " 168.37039251,\n",
       " 176.15663213,\n",
       " 177.21324122,\n",
       " 187.68489387,\n",
       " 188.75160327]"
      ]
     },
     "execution_count": 39,
     "metadata": {},
     "output_type": "execute_result"
    }
   ],
   "source": [
    "all_auxTrigger0"
   ]
  },
  {
   "cell_type": "code",
   "execution_count": 34,
   "metadata": {},
   "outputs": [
    {
     "name": "stdout",
     "output_type": "stream",
     "text": [
      "<class 'str'>\n",
      "frameNumbers = 2\n",
      "acquisitionNumbers = 1\n",
      "frameNumberAcquisition = 2\n",
      "frameTimestamps_sec = 0.065715060\n",
      "acqTriggerTimestamps_sec = -1.000000000\n",
      "nextFileMarkerTimestamps_sec = -1.000000000\n",
      "endOfAcquisition = 0\n",
      "endOfAcquisitionMode = 0\n",
      "dcOverVoltage = 0\n",
      "epoch = [2024  3  5 12 25 15.238]\n",
      "auxTrigger0 = []\n",
      "auxTrigger1 = []\n",
      "auxTrigger2 = []\n",
      "auxTrigger3 = []\n",
      "I2CData = {}\n",
      "                                                                                                                                                                                                                                                                                                                                                                                                                                                                                                                                                                                                                                                                                                                                                                                                                                                                                                                                                                                                                                                                                                                                                                                                                                                                                                                                                                                                                                                                                                                                                                                                                                                                                                    \n",
      "3000\n"
     ]
    }
   ],
   "source": [
    "with ScanImageTiffReader(img_path) as reader:\n",
    "    description = reader.description(1)\n",
    "    print(type(description))\n",
    "    print(description)\n",
    "    print(reader.shape()[0])"
   ]
  },
  {
   "cell_type": "code",
   "execution_count": null,
   "metadata": {},
   "outputs": [],
   "source": [
    "with ScanImageTiffReader(img_path) as reader:\n",
    "    o=json.loads(reader.metadata())\n",
    "    print(o[\"RoiGroups\"][\"imagingRoiGroup\"][\"rois\"][\"scanfields\"][\"affine\"])"
   ]
  },
  {
   "cell_type": "code",
   "execution_count": null,
   "metadata": {},
   "outputs": [],
   "source": []
  }
 ],
 "metadata": {
  "kernelspec": {
   "display_name": "Python 3",
   "language": "python",
   "name": "python3"
  },
  "language_info": {
   "codemirror_mode": {
    "name": "ipython",
    "version": 3
   },
   "file_extension": ".py",
   "mimetype": "text/x-python",
   "name": "python",
   "nbconvert_exporter": "python",
   "pygments_lexer": "ipython3",
   "version": "3.10.12"
  },
  "orig_nbformat": 4
 },
 "nbformat": 4,
 "nbformat_minor": 2
}

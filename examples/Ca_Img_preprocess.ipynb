{
 "cells": [
  {
   "cell_type": "code",
   "execution_count": 35,
   "metadata": {},
   "outputs": [],
   "source": [
    "from ScanImageTiffReader import ScanImageTiffReader\n",
    "import json\n",
    "import ast"
   ]
  },
  {
   "cell_type": "code",
   "execution_count": 15,
   "metadata": {},
   "outputs": [],
   "source": [
    "img_path = r'Z:\\TM_Lab\\Edward\\Cerebellum_Imaging\\test_ibl_sync_daq2p2_aux2_00001.tif'\n",
    "reader=ScanImageTiffReader(img_path)"
   ]
  },
  {
   "cell_type": "code",
   "execution_count": 16,
   "metadata": {},
   "outputs": [
    {
     "name": "stdout",
     "output_type": "stream",
     "text": [
      "Frame: 3000 Height: 1024 Width: 1024\n"
     ]
    }
   ],
   "source": [
    "vol=reader.data()\n",
    "print('Frame: %s Height: %s Width: %s' %(vol.shape[0], vol.shape[1], vol.shape[2]))"
   ]
  },
  {
   "cell_type": "code",
   "execution_count": 29,
   "metadata": {},
   "outputs": [
    {
     "ename": "OSError",
     "evalue": "exception: access violation reading 0x0000000000000044",
     "output_type": "error",
     "traceback": [
      "\u001b[1;31m---------------------------------------------------------------------------\u001b[0m",
      "\u001b[1;31mOSError\u001b[0m                                   Traceback (most recent call last)",
      "Cell \u001b[1;32mIn[29], line 1\u001b[0m\n\u001b[1;32m----> 1\u001b[0m \u001b[43mreader\u001b[49m\u001b[38;5;241;43m.\u001b[39;49m\u001b[43mshape\u001b[49m\u001b[43m(\u001b[49m\u001b[43m)\u001b[49m[\u001b[38;5;241m0\u001b[39m]\n",
      "File \u001b[1;32mc:\\Users\\dirk\\anaconda3\\envs\\iblenv\\lib\\site-packages\\ScanImageTiffReader\\__init__.py:261\u001b[0m, in \u001b[0;36mScanImageTiffReader.shape\u001b[1;34m(self)\u001b[0m\n\u001b[0;32m    252\u001b[0m \u001b[38;5;28;01mdef\u001b[39;00m \u001b[38;5;21mshape\u001b[39m(\u001b[38;5;28mself\u001b[39m):\n\u001b[0;32m    253\u001b[0m \u001b[38;5;250m    \u001b[39m\u001b[38;5;124;03m'''Returns a tuple corresponding to self.data().shape\u001b[39;00m\n\u001b[0;32m    254\u001b[0m \n\u001b[0;32m    255\u001b[0m \u001b[38;5;124;03m    :Example:\u001b[39;00m\n\u001b[1;32m   (...)\u001b[0m\n\u001b[0;32m    259\u001b[0m \u001b[38;5;124;03m    [10, 512, 512]\u001b[39;00m\n\u001b[0;32m    260\u001b[0m \u001b[38;5;124;03m    '''\u001b[39;00m\n\u001b[1;32m--> 261\u001b[0m     s\u001b[38;5;241m=\u001b[39m \u001b[38;5;28;43mself\u001b[39;49m\u001b[38;5;241;43m.\u001b[39;49m\u001b[43m_shape\u001b[49m\u001b[43m(\u001b[49m\u001b[43m)\u001b[49m\n\u001b[0;32m    262\u001b[0m     sh\u001b[38;5;241m=\u001b[39ms\u001b[38;5;241m.\u001b[39mdims[:s\u001b[38;5;241m.\u001b[39mndim]\n\u001b[0;32m    263\u001b[0m     \u001b[38;5;28;01mreturn\u001b[39;00m sh[::\u001b[38;5;241m-\u001b[39m\u001b[38;5;241m1\u001b[39m]\n",
      "File \u001b[1;32mc:\\Users\\dirk\\anaconda3\\envs\\iblenv\\lib\\site-packages\\ScanImageTiffReader\\__init__.py:234\u001b[0m, in \u001b[0;36mScanImageTiffReader._shape\u001b[1;34m(self)\u001b[0m\n\u001b[0;32m    232\u001b[0m \u001b[38;5;28;01mdef\u001b[39;00m \u001b[38;5;21m_shape\u001b[39m(\u001b[38;5;28mself\u001b[39m):\n\u001b[0;32m    233\u001b[0m \u001b[38;5;250m    \u001b[39m\u001b[38;5;124;03m''' (private) return raw shape'''\u001b[39;00m\n\u001b[1;32m--> 234\u001b[0m     s\u001b[38;5;241m=\u001b[39m \u001b[43m_api\u001b[49m\u001b[38;5;241;43m.\u001b[39;49m\u001b[43mshape\u001b[49m\u001b[43m(\u001b[49m\u001b[38;5;28;43mself\u001b[39;49m\u001b[38;5;241;43m.\u001b[39;49m\u001b[43m__ctx\u001b[49m\u001b[43m)\u001b[49m\n\u001b[0;32m    235\u001b[0m     \u001b[38;5;28;01mif\u001b[39;00m \u001b[38;5;28mself\u001b[39m\u001b[38;5;241m.\u001b[39m__ctx\u001b[38;5;241m.\u001b[39mlog:\n\u001b[0;32m    236\u001b[0m         \u001b[38;5;28;01mraise\u001b[39;00m \u001b[38;5;167;01mException\u001b[39;00m(\u001b[38;5;28mself\u001b[39m\u001b[38;5;241m.\u001b[39m__ctx\u001b[38;5;241m.\u001b[39mlog\u001b[38;5;241m.\u001b[39mdecode(\u001b[38;5;124m\"\u001b[39m\u001b[38;5;124mutf-8\u001b[39m\u001b[38;5;124m\"\u001b[39m,\u001b[38;5;124m\"\u001b[39m\u001b[38;5;124mstrict\u001b[39m\u001b[38;5;124m\"\u001b[39m))\n",
      "\u001b[1;31mOSError\u001b[0m: exception: access violation reading 0x0000000000000044"
     ]
    }
   ],
   "source": []
  },
  {
   "cell_type": "code",
   "execution_count": 36,
   "metadata": {},
   "outputs": [],
   "source": [
    "frames_metadata = []\n",
    "\n",
    "with ScanImageTiffReader(img_path) as reader:\n",
    "    num_frames = reader.shape()[0]  # Assuming the first dimension represents frames\n",
    "    \n",
    "    for i in range(num_frames):\n",
    "        description = reader.description(i)\n",
    "        frame_metadata = {}  # Dictionary to hold this frame's metadata\n",
    "        \n",
    "        for line in description.split('\\n'):\n",
    "            if '=' in line:  # Ensure there's a key-value pair to parse\n",
    "                key, value = line.split('=', 1)  # Split by the first '='\n",
    "                key = key.strip()\n",
    "                \n",
    "                try:\n",
    "                    # Safely evaluate the value string to the appropriate Python data type\n",
    "                    # This works for numbers, lists, dictionaries, etc.\n",
    "                    value = ast.literal_eval(value.strip())\n",
    "                except (ValueError, SyntaxError):\n",
    "                    # If evaluation fails, keep the value as a string\n",
    "                    value = value.strip()\n",
    "                \n",
    "                frame_metadata[key] = value\n",
    "        \n",
    "        frames_metadata.append(frame_metadata)\n"
   ]
  },
  {
   "cell_type": "code",
   "execution_count": 37,
   "metadata": {},
   "outputs": [
    {
     "data": {
      "text/plain": [
       "{'frameNumbers': 1,\n",
       " 'acquisitionNumbers': 1,\n",
       " 'frameNumberAcquisition': 1,\n",
       " 'frameTimestamps_sec': 0.0,\n",
       " 'acqTriggerTimestamps_sec': -0.00011737,\n",
       " 'nextFileMarkerTimestamps_sec': -1.0,\n",
       " 'endOfAcquisition': 0,\n",
       " 'endOfAcquisitionMode': 0,\n",
       " 'dcOverVoltage': 0,\n",
       " 'epoch': '[2024  3  5 12 25 15.238]',\n",
       " 'auxTrigger0': [],\n",
       " 'auxTrigger1': [],\n",
       " 'auxTrigger2': [],\n",
       " 'auxTrigger3': [],\n",
       " 'I2CData': {}}"
      ]
     },
     "execution_count": 37,
     "metadata": {},
     "output_type": "execute_result"
    }
   ],
   "source": [
    "frames_metadata[0]"
   ]
  },
  {
   "cell_type": "code",
   "execution_count": 38,
   "metadata": {},
   "outputs": [],
   "source": [
    "all_auxTrigger0 = []\n",
    "\n",
    "# Iterate through each frame's metadata\n",
    "for frame_metadata in frames_metadata:\n",
    "    # Check if 'auxTrigger0' exists and is not empty\n",
    "    if 'auxTrigger0' in frame_metadata and frame_metadata['auxTrigger0']:\n",
    "        # Extend the all_auxTrigger0 list with the numbers from this frame's auxTrigger0\n",
    "        all_auxTrigger0.extend(frame_metadata['auxTrigger0'])"
   ]
  },
  {
   "cell_type": "code",
   "execution_count": 39,
   "metadata": {},
   "outputs": [
    {
     "data": {
      "text/plain": [
       "[33.78155021,\n",
       " 45.68120846,\n",
       " 46.73831696,\n",
       " 57.58207253,\n",
       " 58.64988146,\n",
       " 67.60462751,\n",
       " 68.66533688,\n",
       " 76.1923746,\n",
       " 77.24698399,\n",
       " 89.06634541,\n",
       " 90.20465545,\n",
       " 99.51650445,\n",
       " 100.57881332,\n",
       " 106.30794343,\n",
       " 107.3560526,\n",
       " 119.87042058,\n",
       " 120.94502926,\n",
       " 130.54347846,\n",
       " 131.60688759,\n",
       " 144.02305433,\n",
       " 145.0975635,\n",
       " 154.54891217,\n",
       " 155.61202118,\n",
       " 167.29938358,\n",
       " 168.37039251,\n",
       " 176.15663213,\n",
       " 177.21324122,\n",
       " 187.68489387,\n",
       " 188.75160327]"
      ]
     },
     "execution_count": 39,
     "metadata": {},
     "output_type": "execute_result"
    }
   ],
   "source": [
    "all_auxTrigger0"
   ]
  },
  {
   "cell_type": "code",
   "execution_count": 34,
   "metadata": {},
   "outputs": [
    {
     "name": "stdout",
     "output_type": "stream",
     "text": [
      "<class 'str'>\n",
      "frameNumbers = 2\n",
      "acquisitionNumbers = 1\n",
      "frameNumberAcquisition = 2\n",
      "frameTimestamps_sec = 0.065715060\n",
      "acqTriggerTimestamps_sec = -1.000000000\n",
      "nextFileMarkerTimestamps_sec = -1.000000000\n",
      "endOfAcquisition = 0\n",
      "endOfAcquisitionMode = 0\n",
      "dcOverVoltage = 0\n",
      "epoch = [2024  3  5 12 25 15.238]\n",
      "auxTrigger0 = []\n",
      "auxTrigger1 = []\n",
      "auxTrigger2 = []\n",
      "auxTrigger3 = []\n",
      "I2CData = {}\n",
      "                                                                                                                                                                                                                                                                                                                                                                                                                                                                                                                                                                                                                                                                                                                                                                                                                                                                                                                                                                                                                                                                                                                                                                                                                                                                                                                                                                                                                                                                                                                                                                                                                                                                                                    \n",
      "3000\n"
     ]
    }
   ],
   "source": [
    "with ScanImageTiffReader(img_path) as reader:\n",
    "    description = reader.description(1)\n",
    "    print(type(description))\n",
    "    print(description)\n",
    "    print(reader.shape()[0])"
   ]
  },
  {
   "cell_type": "code",
   "execution_count": 6,
   "metadata": {},
   "outputs": [
    {
     "ename": "JSONDecodeError",
     "evalue": "Expecting value: line 1 column 1 (char 0)",
     "output_type": "error",
     "traceback": [
      "\u001b[1;31m---------------------------------------------------------------------------\u001b[0m",
      "\u001b[1;31mJSONDecodeError\u001b[0m                           Traceback (most recent call last)",
      "Cell \u001b[1;32mIn[6], line 2\u001b[0m\n\u001b[0;32m      1\u001b[0m \u001b[38;5;28;01mwith\u001b[39;00m ScanImageTiffReader(img_path) \u001b[38;5;28;01mas\u001b[39;00m reader:\n\u001b[1;32m----> 2\u001b[0m     o\u001b[38;5;241m=\u001b[39m\u001b[43mjson\u001b[49m\u001b[38;5;241;43m.\u001b[39;49m\u001b[43mloads\u001b[49m\u001b[43m(\u001b[49m\u001b[43mreader\u001b[49m\u001b[38;5;241;43m.\u001b[39;49m\u001b[43mmetadata\u001b[49m\u001b[43m(\u001b[49m\u001b[43m)\u001b[49m\u001b[43m)\u001b[49m\n\u001b[0;32m      3\u001b[0m     \u001b[38;5;28mprint\u001b[39m(o[\u001b[38;5;124m\"\u001b[39m\u001b[38;5;124mRoiGroups\u001b[39m\u001b[38;5;124m\"\u001b[39m][\u001b[38;5;124m\"\u001b[39m\u001b[38;5;124mimagingRoiGroup\u001b[39m\u001b[38;5;124m\"\u001b[39m][\u001b[38;5;124m\"\u001b[39m\u001b[38;5;124mrois\u001b[39m\u001b[38;5;124m\"\u001b[39m][\u001b[38;5;124m\"\u001b[39m\u001b[38;5;124mscanfields\u001b[39m\u001b[38;5;124m\"\u001b[39m][\u001b[38;5;124m\"\u001b[39m\u001b[38;5;124maffine\u001b[39m\u001b[38;5;124m\"\u001b[39m])\n",
      "File \u001b[1;32mc:\\Users\\dirk\\anaconda3\\envs\\iblenv\\lib\\json\\__init__.py:346\u001b[0m, in \u001b[0;36mloads\u001b[1;34m(s, cls, object_hook, parse_float, parse_int, parse_constant, object_pairs_hook, **kw)\u001b[0m\n\u001b[0;32m    341\u001b[0m     s \u001b[38;5;241m=\u001b[39m s\u001b[38;5;241m.\u001b[39mdecode(detect_encoding(s), \u001b[38;5;124m'\u001b[39m\u001b[38;5;124msurrogatepass\u001b[39m\u001b[38;5;124m'\u001b[39m)\n\u001b[0;32m    343\u001b[0m \u001b[38;5;28;01mif\u001b[39;00m (\u001b[38;5;28mcls\u001b[39m \u001b[38;5;129;01mis\u001b[39;00m \u001b[38;5;28;01mNone\u001b[39;00m \u001b[38;5;129;01mand\u001b[39;00m object_hook \u001b[38;5;129;01mis\u001b[39;00m \u001b[38;5;28;01mNone\u001b[39;00m \u001b[38;5;129;01mand\u001b[39;00m\n\u001b[0;32m    344\u001b[0m         parse_int \u001b[38;5;129;01mis\u001b[39;00m \u001b[38;5;28;01mNone\u001b[39;00m \u001b[38;5;129;01mand\u001b[39;00m parse_float \u001b[38;5;129;01mis\u001b[39;00m \u001b[38;5;28;01mNone\u001b[39;00m \u001b[38;5;129;01mand\u001b[39;00m\n\u001b[0;32m    345\u001b[0m         parse_constant \u001b[38;5;129;01mis\u001b[39;00m \u001b[38;5;28;01mNone\u001b[39;00m \u001b[38;5;129;01mand\u001b[39;00m object_pairs_hook \u001b[38;5;129;01mis\u001b[39;00m \u001b[38;5;28;01mNone\u001b[39;00m \u001b[38;5;129;01mand\u001b[39;00m \u001b[38;5;129;01mnot\u001b[39;00m kw):\n\u001b[1;32m--> 346\u001b[0m     \u001b[38;5;28;01mreturn\u001b[39;00m \u001b[43m_default_decoder\u001b[49m\u001b[38;5;241;43m.\u001b[39;49m\u001b[43mdecode\u001b[49m\u001b[43m(\u001b[49m\u001b[43ms\u001b[49m\u001b[43m)\u001b[49m\n\u001b[0;32m    347\u001b[0m \u001b[38;5;28;01mif\u001b[39;00m \u001b[38;5;28mcls\u001b[39m \u001b[38;5;129;01mis\u001b[39;00m \u001b[38;5;28;01mNone\u001b[39;00m:\n\u001b[0;32m    348\u001b[0m     \u001b[38;5;28mcls\u001b[39m \u001b[38;5;241m=\u001b[39m JSONDecoder\n",
      "File \u001b[1;32mc:\\Users\\dirk\\anaconda3\\envs\\iblenv\\lib\\json\\decoder.py:337\u001b[0m, in \u001b[0;36mJSONDecoder.decode\u001b[1;34m(self, s, _w)\u001b[0m\n\u001b[0;32m    332\u001b[0m \u001b[38;5;28;01mdef\u001b[39;00m \u001b[38;5;21mdecode\u001b[39m(\u001b[38;5;28mself\u001b[39m, s, _w\u001b[38;5;241m=\u001b[39mWHITESPACE\u001b[38;5;241m.\u001b[39mmatch):\n\u001b[0;32m    333\u001b[0m \u001b[38;5;250m    \u001b[39m\u001b[38;5;124;03m\"\"\"Return the Python representation of ``s`` (a ``str`` instance\u001b[39;00m\n\u001b[0;32m    334\u001b[0m \u001b[38;5;124;03m    containing a JSON document).\u001b[39;00m\n\u001b[0;32m    335\u001b[0m \n\u001b[0;32m    336\u001b[0m \u001b[38;5;124;03m    \"\"\"\u001b[39;00m\n\u001b[1;32m--> 337\u001b[0m     obj, end \u001b[38;5;241m=\u001b[39m \u001b[38;5;28;43mself\u001b[39;49m\u001b[38;5;241;43m.\u001b[39;49m\u001b[43mraw_decode\u001b[49m\u001b[43m(\u001b[49m\u001b[43ms\u001b[49m\u001b[43m,\u001b[49m\u001b[43m \u001b[49m\u001b[43midx\u001b[49m\u001b[38;5;241;43m=\u001b[39;49m\u001b[43m_w\u001b[49m\u001b[43m(\u001b[49m\u001b[43ms\u001b[49m\u001b[43m,\u001b[49m\u001b[43m \u001b[49m\u001b[38;5;241;43m0\u001b[39;49m\u001b[43m)\u001b[49m\u001b[38;5;241;43m.\u001b[39;49m\u001b[43mend\u001b[49m\u001b[43m(\u001b[49m\u001b[43m)\u001b[49m\u001b[43m)\u001b[49m\n\u001b[0;32m    338\u001b[0m     end \u001b[38;5;241m=\u001b[39m _w(s, end)\u001b[38;5;241m.\u001b[39mend()\n\u001b[0;32m    339\u001b[0m     \u001b[38;5;28;01mif\u001b[39;00m end \u001b[38;5;241m!=\u001b[39m \u001b[38;5;28mlen\u001b[39m(s):\n",
      "File \u001b[1;32mc:\\Users\\dirk\\anaconda3\\envs\\iblenv\\lib\\json\\decoder.py:355\u001b[0m, in \u001b[0;36mJSONDecoder.raw_decode\u001b[1;34m(self, s, idx)\u001b[0m\n\u001b[0;32m    353\u001b[0m     obj, end \u001b[38;5;241m=\u001b[39m \u001b[38;5;28mself\u001b[39m\u001b[38;5;241m.\u001b[39mscan_once(s, idx)\n\u001b[0;32m    354\u001b[0m \u001b[38;5;28;01mexcept\u001b[39;00m \u001b[38;5;167;01mStopIteration\u001b[39;00m \u001b[38;5;28;01mas\u001b[39;00m err:\n\u001b[1;32m--> 355\u001b[0m     \u001b[38;5;28;01mraise\u001b[39;00m JSONDecodeError(\u001b[38;5;124m\"\u001b[39m\u001b[38;5;124mExpecting value\u001b[39m\u001b[38;5;124m\"\u001b[39m, s, err\u001b[38;5;241m.\u001b[39mvalue) \u001b[38;5;28;01mfrom\u001b[39;00m \u001b[38;5;28;01mNone\u001b[39;00m\n\u001b[0;32m    356\u001b[0m \u001b[38;5;28;01mreturn\u001b[39;00m obj, end\n",
      "\u001b[1;31mJSONDecodeError\u001b[0m: Expecting value: line 1 column 1 (char 0)"
     ]
    }
   ],
   "source": [
    "with ScanImageTiffReader(img_path) as reader:\n",
    "    o=json.loads(reader.metadata())\n",
    "    print(o[\"RoiGroups\"][\"imagingRoiGroup\"][\"rois\"][\"scanfields\"][\"affine\"])"
   ]
  },
  {
   "cell_type": "code",
   "execution_count": null,
   "metadata": {},
   "outputs": [],
   "source": []
  }
 ],
 "metadata": {
  "kernelspec": {
   "display_name": "Python 3",
   "language": "python",
   "name": "python3"
  },
  "language_info": {
   "codemirror_mode": {
    "name": "ipython",
    "version": 3
   },
   "file_extension": ".py",
   "mimetype": "text/x-python",
   "name": "python",
   "nbconvert_exporter": "python",
   "pygments_lexer": "ipython3",
   "version": "3.10.13"
  },
  "orig_nbformat": 4
 },
 "nbformat": 4,
 "nbformat_minor": 2
}

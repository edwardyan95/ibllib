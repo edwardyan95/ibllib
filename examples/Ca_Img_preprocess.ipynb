{
 "cells": [
  {
   "cell_type": "code",
   "execution_count": 19,
   "metadata": {},
   "outputs": [],
   "source": [
    "from ScanImageTiffReader import ScanImageTiffReader\n",
    "import json\n",
    "import ast\n",
    "from PIL import Image\n",
    "import os\n",
    "import tifffile\n",
    "import numpy as np\n",
    "import h5py\n",
    "import matplotlib.pyplot as plt"
   ]
  },
  {
   "cell_type": "code",
   "execution_count": 2,
   "metadata": {},
   "outputs": [],
   "source": []
  },
  {
   "cell_type": "code",
   "execution_count": 2,
   "metadata": {},
   "outputs": [],
   "source": [
    "def crop_or_pad(image, target_width, target_height):\n",
    "    \"\"\"\n",
    "    Pad or crop the image to make it 512x512.\n",
    "    \"\"\"\n",
    "    # Crop if larger\n",
    "    if image.shape[0] > target_height or image.shape[1] > target_width:\n",
    "        # Center crop to 512x512\n",
    "        startx = image.shape[1]//2 - (target_width//2)\n",
    "        starty = image.shape[0]//2 - (target_height//2)    \n",
    "        image = image[starty:starty+target_height, startx:startx+target_width]\n",
    "    # Pad if smaller\n",
    "    if image.shape[0] < target_height or image.shape[1] < target_width:\n",
    "        # Calculate padding sizes\n",
    "        pad_x = (target_width - image.shape[1]) // 2\n",
    "        pad_y = (target_height - image.shape[0]) // 2\n",
    "        image = np.pad(image, [(pad_y, target_height - image.shape[0] - pad_y), (pad_x, target_width - image.shape[1] - pad_x)], mode='constant')\n",
    "    return image\n",
    "def concatenate_tiffs_for_deep_interp(folder_path, num_roi):\n",
    "    # target output, 512x512\n",
    "    tiff_files = [f for f in os.listdir(folder_path) if f.endswith('.tif')]\n",
    "    tiff_files.sort()  # Ensure files are in the desired order\n",
    "\n",
    "    if num_roi == 1:\n",
    "        all_images = []\n",
    "\n",
    "        for tiff_file in tiff_files:\n",
    "            with tifffile.TiffFile(os.path.join(folder_path, tiff_file)) as tif:\n",
    "                for page in tif.pages:\n",
    "                    image = page.asarray()\n",
    "                    # Adjust each image to be 512x512\n",
    "                    processed_image = crop_or_pad(image, 512, 512)\n",
    "                    all_images.append(processed_image)\n",
    "\n",
    "        # Save the adjusted images as a new TIFF file\n",
    "        output_file_path = os.path.join(folder_path, 'concatenated_adjusted_output.tif')\n",
    "        with tifffile.TiffWriter(output_file_path, bigtiff=True) as tif:\n",
    "            for image in all_images:\n",
    "                tif.write(image)\n",
    "\n",
    "    elif num_roi == 2:\n",
    "        all_top_images = []\n",
    "        all_bottom_images = []\n",
    "        for tiff_file in tiff_files:\n",
    "            with tifffile.TiffFile(os.path.join(folder_path, tiff_file)) as tif:\n",
    "                for page in tif.pages:\n",
    "                    image = page.asarray()\n",
    "                    # Adjust each image to be 512x512\n",
    "                    processed_image = crop_or_pad(image, 512, 1024)\n",
    "                    all_top_images.append(processed_image[:512, :])\n",
    "                    all_bottom_images.append(processed_image[512:, :])\n",
    "\n",
    "        # Save the adjusted images as a new TIFF file\n",
    "        output_file_path1 = os.path.join(folder_path, 'concatenated_top_images.tif')\n",
    "        output_file_path2 = os.path.join(folder_path, 'concatenated_bottom_images.tif')\n",
    "        with tifffile.TiffWriter(output_file_path1, bigtiff=True) as tif:\n",
    "            for image in all_top_images:\n",
    "                tif.write(image)\n",
    "        with tifffile.TiffWriter(output_file_path2, bigtiff=True) as tif:\n",
    "            for image in all_bottom_images:\n",
    "                tif.write(image)\n",
    "    "
   ]
  },
  {
   "cell_type": "code",
   "execution_count": 3,
   "metadata": {},
   "outputs": [
    {
     "ename": "",
     "evalue": "",
     "output_type": "error",
     "traceback": [
      "\u001b[1;31mThe Kernel crashed while executing code in the current cell or a previous cell. \n",
      "\u001b[1;31mPlease review the code in the cell(s) to identify a possible cause of the failure. \n",
      "\u001b[1;31mClick <a href='https://aka.ms/vscodeJupyterKernelCrash'>here</a> for more info. \n",
      "\u001b[1;31mView Jupyter <a href='command:jupyter.viewOutput'>log</a> for further details."
     ]
    }
   ],
   "source": [
    "mc_img_folders = [\n",
    "                  #r'Z:\\TM_Lab\\Edward\\Cerebellum_Imaging\\Q_R2\\20240415\\acq1\\suite2p\\plane0\\reg_tif',\n",
    "                  #r'Z:\\TM_Lab\\Edward\\Cerebellum_Imaging\\O_L2\\20240415\\suite2p\\plane0\\reg_tif',\n",
    "                  r'Z:\\TM_Lab\\Edward\\Cerebellum_Imaging\\Pcp2-jgcamp8m\\A_R2\\soma\\suite2p\\plane0\\reg_tif',\n",
    "                  r'Z:\\TM_Lab\\Edward\\Cerebellum_Imaging\\Pcp2-jgcamp8m\\A_R2\\dendrite\\suite2p\\plane0\\reg_tif',\n",
    "                  ] # folder containing fragments of motion corrected tif from suite2p\n",
    "#test_img_folder = r'Z:\\TM_Lab\\Edward\\Cerebellum_Imaging\\O_L3\\20240326\\acq2\\test_tif' # folder containing fragments of motion corrected tif from suite2p\n",
    "# concatenate_tiffs_for_deep_interp(test_img_folder, num_roi=2)\n",
    "for folder in mc_img_folders:\n",
    "    concatenate_tiffs_for_deep_interp(folder, num_roi=2)"
   ]
  },
  {
   "cell_type": "code",
   "execution_count": 3,
   "metadata": {},
   "outputs": [],
   "source": [
    "def convert_h5_to_tif(h5_file_path, tif_file_path, dataset_name):\n",
    "    \"\"\"\n",
    "    Convert a dataset from an HDF5 file to a TIFF file.\n",
    "\n",
    "    Parameters:\n",
    "    - h5_file_path: Path to the input HDF5 file.\n",
    "    - tif_file_path: Path to the output TIFF file.\n",
    "    - dataset_name: Name of the dataset within the HDF5 file to convert.\n",
    "    \"\"\"\n",
    "    with h5py.File(h5_file_path, 'r') as h5_file:\n",
    "        # Access the specified dataset in the HDF5 file\n",
    "        dataset = h5_file[dataset_name][()]\n",
    "        \n",
    "        # Save the dataset as a TIFF file\n",
    "        tifffile.imwrite(tif_file_path, dataset, photometric='minisblack')"
   ]
  },
  {
   "cell_type": "code",
   "execution_count": 4,
   "metadata": {},
   "outputs": [],
   "source": [
    "h5_file_paths = [\n",
    "                        r'Z:\\TM_Lab\\Edward\\Cerebellum_Imaging\\Pcp2-jgcamp8m\\A_R2\\dendrite\\concatenated_top_images_interped.h5',\n",
    "                        r'Z:\\TM_Lab\\Edward\\Cerebellum_Imaging\\Pcp2-jgcamp8m\\A_R2\\dendrite\\concatenated_bottom_images_interped.h5',\n",
    "                        ]\n",
    "tif_file_paths = [x.replace('.h5', '.tif') for x in h5_file_paths]\n",
    "for i in range(len(h5_file_paths)):\n",
    "    convert_h5_to_tif(h5_file_paths[i], tif_file_paths[i], \"data\")"
   ]
  },
  {
   "cell_type": "code",
   "execution_count": 9,
   "metadata": {},
   "outputs": [],
   "source": [
    "def convert_h5_to_stitched_tif(left_h5_file_path, right_h5_file_path, tif_file_path, left_dataset_name = \"data\", right_dataset_name = \"data\"):\n",
    "    \"\"\"\n",
    "    Convert datasets from two HDF5 files (left and right image stacks) to a single stitched TIFF file.\n",
    "\n",
    "    Parameters:\n",
    "    - left_h5_file_path: Path to the input HDF5 file containing left image stacks.\n",
    "    - right_h5_file_path: Path to the input HDF5 file containing right image stacks.\n",
    "    - tif_file_path: Path to the output stitched TIFF file.\n",
    "    - left_dataset_name: Name of the dataset within the left HDF5 file.\n",
    "    - right_dataset_name: Name of the dataset within the right HDF5 file.\n",
    "    \"\"\"\n",
    "    with h5py.File(left_h5_file_path, 'r') as left_h5_file, h5py.File(right_h5_file_path, 'r') as right_h5_file:\n",
    "        # Access the specified datasets in the HDF5 files\n",
    "        left_dataset = left_h5_file[left_dataset_name][()]\n",
    "        right_dataset = right_h5_file[right_dataset_name][()]\n",
    "        \n",
    "        # Check that the number of frames in both datasets are the same\n",
    "        assert left_dataset.shape[0] == right_dataset.shape[0], \"Left and right datasets must have the same number of frames\"\n",
    "        \n",
    "        # List to hold stitched frames\n",
    "        stitched_frames = []\n",
    "        \n",
    "        # Iterate over each frame and stitch the left and right images\n",
    "        for left_frame, right_frame in zip(left_dataset, right_dataset):\n",
    "            # Stitch the images side-by-side\n",
    "            stitched_frame = np.hstack((left_frame, right_frame))\n",
    "            stitched_frames.append(stitched_frame)\n",
    "        \n",
    "        # Save the stitched frames as a TIFF file\n",
    "        tifffile.imwrite(tif_file_path, stitched_frames, photometric='minisblack', bigtiff=True)\n",
    "\n",
    "h5_file_paths = [\n",
    "                        r'Z:\\TM_Lab\\Edward\\Cerebellum_Imaging\\Pcp2-jgcamp8m\\A_R2\\soma\\concatenated_top_images_interped.h5',\n",
    "                        r'Z:\\TM_Lab\\Edward\\Cerebellum_Imaging\\Pcp2-jgcamp8m\\A_R2\\soma\\concatenated_bottom_images_interped.h5',\n",
    "                        ]\n",
    "tif_file_path = os.path.join(os.path.dirname(h5_file_paths[0]), \"deep_interped_combined_images.tif\")\n",
    "convert_h5_to_stitched_tif(left_h5_file_path = h5_file_paths[0], right_h5_file_path = h5_file_paths[1], tif_file_path=tif_file_path)\n"
   ]
  },
  {
   "cell_type": "code",
   "execution_count": 7,
   "metadata": {},
   "outputs": [],
   "source": [
    "def concatenate_tiffs_left_right_roi(file1, file2, output_file):\n",
    "    with tifffile.TiffFile(file1) as tif1, tifffile.TiffFile(file2) as tif2:\n",
    "        # Check if the number of frames and the heights are the same\n",
    "        if len(tif1.pages) != len(tif2.pages):\n",
    "            print(\"The TIFF files do not have the same number of frames and cannot be concatenated.\")\n",
    "            return\n",
    "\n",
    "        concatenated_frames = []\n",
    "        for page1, page2 in zip(tif1.pages, tif2.pages):\n",
    "            img1 = page1.asarray()\n",
    "            img2 = page2.asarray()\n",
    "            \n",
    "            if img1.shape[0] != img2.shape[0]:\n",
    "                print(\"The TIFF frames do not have the same height and cannot be concatenated.\")\n",
    "                return\n",
    "            \n",
    "            concatenated_img = np.concatenate((img1, img2), axis=1)\n",
    "            concatenated_frames.append(concatenated_img)\n",
    "\n",
    "        # Save the concatenated image\n",
    "        with tifffile.TiffWriter(output_file, bigtiff=True) as tif_writer:\n",
    "            for frame in concatenated_frames:\n",
    "                tif_writer.write(frame, photometric='minisblack')\n",
    "        \n",
    "        print(f\"Concatenated TIFF saved as {output_file}.\")"
   ]
  },
  {
   "cell_type": "code",
   "execution_count": 8,
   "metadata": {},
   "outputs": [
    {
     "name": "stdout",
     "output_type": "stream",
     "text": [
      "Concatenated TIFF saved as Z:\\TM_Lab\\Edward\\Cerebellum_Imaging\\Pcp2-jgcamp8m\\A_R2\\dendrite\\raw_combined_images.tif.\n"
     ]
    }
   ],
   "source": [
    "left_roi_tif = r\"Z:\\TM_Lab\\Edward\\Cerebellum_Imaging\\Pcp2-jgcamp8m\\A_R2\\soma\\concatenated_top_images.tif\"\n",
    "right_roi_tif = r\"Z:\\TM_Lab\\Edward\\Cerebellum_Imaging\\Pcp2-jgcamp8m\\A_R2\\soma\\concatenated_bottom_images.tif\"\n",
    "outfile = os.path.join(os.path.dirname(left_roi_tif), \"raw_combined_images.tif\")\n",
    "concatenate_tiffs_left_right_roi(left_roi_tif, right_roi_tif, outfile)"
   ]
  },
  {
   "cell_type": "code",
   "execution_count": 8,
   "metadata": {},
   "outputs": [
    {
     "ename": "Exception",
     "evalue": "No strip offsets found.  This reader only reads Tiffs with strip data",
     "output_type": "error",
     "traceback": [
      "\u001b[1;31m---------------------------------------------------------------------------\u001b[0m",
      "\u001b[1;31mException\u001b[0m                                 Traceback (most recent call last)",
      "Cell \u001b[1;32mIn[8], line 2\u001b[0m\n\u001b[0;32m      1\u001b[0m img_path \u001b[38;5;241m=\u001b[39m \u001b[38;5;124mr\u001b[39m\u001b[38;5;124m'\u001b[39m\u001b[38;5;124mI:\u001b[39m\u001b[38;5;124m\\\u001b[39m\u001b[38;5;124mA_R3\u001b[39m\u001b[38;5;124m\\\u001b[39m\u001b[38;5;124m20240821\u001b[39m\u001b[38;5;124m\\\u001b[39m\u001b[38;5;124marm2\u001b[39m\u001b[38;5;124m\\\u001b[39m\u001b[38;5;124marm2_training1_150sq_1024pix_15hz_etl195_00001.tif\u001b[39m\u001b[38;5;124m'\u001b[39m\n\u001b[1;32m----> 2\u001b[0m reader\u001b[38;5;241m=\u001b[39m\u001b[43mScanImageTiffReader\u001b[49m\u001b[43m(\u001b[49m\u001b[43mimg_path\u001b[49m\u001b[43m)\u001b[49m\n",
      "File \u001b[1;32mc:\\Users\\dirk\\anaconda3\\envs\\iblenv\\lib\\site-packages\\ScanImageTiffReader\\__init__.py:173\u001b[0m, in \u001b[0;36mScanImageTiffReader.__init__\u001b[1;34m(self, filename)\u001b[0m\n\u001b[0;32m    164\u001b[0m \u001b[38;5;250m\u001b[39m\u001b[38;5;124;03m''' Opens a ScanImage tiff file for reading.\u001b[39;00m\n\u001b[0;32m    165\u001b[0m \n\u001b[0;32m    166\u001b[0m \u001b[38;5;124;03m:Example:\u001b[39;00m\n\u001b[1;32m   (...)\u001b[0m\n\u001b[0;32m    170\u001b[0m \u001b[38;5;124;03m>>> reader.close()\u001b[39;00m\n\u001b[0;32m    171\u001b[0m \u001b[38;5;124;03m'''\u001b[39;00m\n\u001b[0;32m    172\u001b[0m \u001b[38;5;28mself\u001b[39m\u001b[38;5;241m.\u001b[39m_is_open\u001b[38;5;241m=\u001b[39m\u001b[38;5;28;01mFalse\u001b[39;00m\n\u001b[1;32m--> 173\u001b[0m \u001b[38;5;28;43mself\u001b[39;49m\u001b[38;5;241;43m.\u001b[39;49m\u001b[43mopen\u001b[49m\u001b[43m(\u001b[49m\u001b[43mfilename\u001b[49m\u001b[43m)\u001b[49m\n",
      "File \u001b[1;32mc:\\Users\\dirk\\anaconda3\\envs\\iblenv\\lib\\site-packages\\ScanImageTiffReader\\__init__.py:222\u001b[0m, in \u001b[0;36mScanImageTiffReader.open\u001b[1;34m(self, filename)\u001b[0m\n\u001b[0;32m    220\u001b[0m \u001b[38;5;28mself\u001b[39m\u001b[38;5;241m.\u001b[39m__ctx\u001b[38;5;241m=\u001b[39m_api\u001b[38;5;241m.\u001b[39mopen(filename\u001b[38;5;241m.\u001b[39mencode(\u001b[38;5;124m\"\u001b[39m\u001b[38;5;124mutf8\u001b[39m\u001b[38;5;124m\"\u001b[39m))\n\u001b[0;32m    221\u001b[0m \u001b[38;5;28;01mif\u001b[39;00m \u001b[38;5;28mself\u001b[39m\u001b[38;5;241m.\u001b[39m__ctx\u001b[38;5;241m.\u001b[39mlog:\n\u001b[1;32m--> 222\u001b[0m     \u001b[38;5;28;01mraise\u001b[39;00m \u001b[38;5;167;01mException\u001b[39;00m(\u001b[38;5;28mself\u001b[39m\u001b[38;5;241m.\u001b[39m__ctx\u001b[38;5;241m.\u001b[39mlog\u001b[38;5;241m.\u001b[39mdecode(\u001b[38;5;124m\"\u001b[39m\u001b[38;5;124mutf-8\u001b[39m\u001b[38;5;124m\"\u001b[39m,\u001b[38;5;124m\"\u001b[39m\u001b[38;5;124mstrict\u001b[39m\u001b[38;5;124m\"\u001b[39m))\n\u001b[0;32m    223\u001b[0m \u001b[38;5;28mself\u001b[39m\u001b[38;5;241m.\u001b[39m_is_open\u001b[38;5;241m=\u001b[39m\u001b[38;5;28;01mTrue\u001b[39;00m\n",
      "\u001b[1;31mException\u001b[0m: No strip offsets found.  This reader only reads Tiffs with strip data"
     ]
    }
   ],
   "source": [
    "img_path = r'I:\\A_R3\\20240821\\arm2\\arm2_training1_150sq_1024pix_15hz_etl195_00001.tif'\n",
    "reader=ScanImageTiffReader(img_path)"
   ]
  },
  {
   "cell_type": "code",
   "execution_count": 23,
   "metadata": {},
   "outputs": [
    {
     "ename": "KeyboardInterrupt",
     "evalue": "",
     "output_type": "error",
     "traceback": [
      "\u001b[1;31m---------------------------------------------------------------------------\u001b[0m",
      "\u001b[1;31mKeyboardInterrupt\u001b[0m                         Traceback (most recent call last)",
      "\u001b[1;32m~\\AppData\\Local\\Temp\\ipykernel_20836\\2126340652.py\u001b[0m in \u001b[0;36m?\u001b[1;34m()\u001b[0m\n\u001b[0;32m      1\u001b[0m \u001b[0mtifffilepath\u001b[0m \u001b[1;33m=\u001b[0m \u001b[1;34mr'Z:\\TM_Lab\\Edward\\Cerebellum_Imaging\\Pcp2-jgcamp8m\\A_R2\\20240910\\arm1\\arm1_1roi_150sq_1024px_etl260_15hz_00001.tif'\u001b[0m\u001b[1;33m\u001b[0m\u001b[1;33m\u001b[0m\u001b[0m\n\u001b[0;32m      2\u001b[0m \u001b[0mstack\u001b[0m \u001b[1;33m=\u001b[0m \u001b[1;33m[\u001b[0m\u001b[1;33m]\u001b[0m\u001b[1;33m\u001b[0m\u001b[1;33m\u001b[0m\u001b[0m\n\u001b[0;32m      3\u001b[0m \u001b[0mmean_fluo\u001b[0m \u001b[1;33m=\u001b[0m \u001b[1;33m[\u001b[0m\u001b[1;33m]\u001b[0m\u001b[1;33m\u001b[0m\u001b[1;33m\u001b[0m\u001b[0m\n\u001b[0;32m      4\u001b[0m \u001b[1;32mwith\u001b[0m \u001b[0mtifffile\u001b[0m\u001b[1;33m.\u001b[0m\u001b[0mTiffFile\u001b[0m\u001b[1;33m(\u001b[0m\u001b[0mtifffilepath\u001b[0m\u001b[1;33m)\u001b[0m \u001b[1;32mas\u001b[0m \u001b[0mtif\u001b[0m\u001b[1;33m:\u001b[0m\u001b[1;33m\u001b[0m\u001b[1;33m\u001b[0m\u001b[0m\n\u001b[1;32m----> 5\u001b[1;33m         \u001b[1;32mfor\u001b[0m \u001b[0mind\u001b[0m\u001b[1;33m,\u001b[0m \u001b[0mpage\u001b[0m \u001b[1;32min\u001b[0m \u001b[0menumerate\u001b[0m\u001b[1;33m(\u001b[0m\u001b[0mtif\u001b[0m\u001b[1;33m.\u001b[0m\u001b[0mpages\u001b[0m\u001b[1;33m)\u001b[0m\u001b[1;33m:\u001b[0m\u001b[1;33m\u001b[0m\u001b[1;33m\u001b[0m\u001b[0m\n\u001b[0m\u001b[0;32m      6\u001b[0m             \u001b[1;32mif\u001b[0m \u001b[0mind\u001b[0m\u001b[1;33m<\u001b[0m\u001b[1;36m3000\u001b[0m\u001b[1;33m:\u001b[0m\u001b[1;33m\u001b[0m\u001b[1;33m\u001b[0m\u001b[0m\n\u001b[0;32m      7\u001b[0m                 \u001b[0mimage\u001b[0m \u001b[1;33m=\u001b[0m \u001b[0mpage\u001b[0m\u001b[1;33m.\u001b[0m\u001b[0masarray\u001b[0m\u001b[1;33m(\u001b[0m\u001b[1;33m)\u001b[0m\u001b[1;33m\u001b[0m\u001b[1;33m\u001b[0m\u001b[0m\n\u001b[0;32m      8\u001b[0m                 \u001b[1;31m#stack.append(image)\u001b[0m\u001b[1;33m\u001b[0m\u001b[1;33m\u001b[0m\u001b[0m\n",
      "\u001b[1;32mc:\\Users\\dirk\\anaconda3\\envs\\iblenv\\lib\\site-packages\\tifffile\\tifffile.py\u001b[0m in \u001b[0;36m?\u001b[1;34m(self)\u001b[0m\n\u001b[0;32m   7612\u001b[0m         \u001b[1;32mwhile\u001b[0m \u001b[1;32mTrue\u001b[0m\u001b[1;33m:\u001b[0m\u001b[1;33m\u001b[0m\u001b[1;33m\u001b[0m\u001b[0m\n\u001b[0;32m   7613\u001b[0m             \u001b[1;32mtry\u001b[0m\u001b[1;33m:\u001b[0m\u001b[1;33m\u001b[0m\u001b[1;33m\u001b[0m\u001b[0m\n\u001b[0;32m   7614\u001b[0m                 \u001b[1;32myield\u001b[0m \u001b[0mself\u001b[0m\u001b[1;33m.\u001b[0m\u001b[0m_getitem\u001b[0m\u001b[1;33m(\u001b[0m\u001b[0mi\u001b[0m\u001b[1;33m)\u001b[0m\u001b[1;33m\u001b[0m\u001b[1;33m\u001b[0m\u001b[0m\n\u001b[0;32m   7615\u001b[0m                 \u001b[0mi\u001b[0m \u001b[1;33m+=\u001b[0m \u001b[1;36m1\u001b[0m\u001b[1;33m\u001b[0m\u001b[1;33m\u001b[0m\u001b[0m\n\u001b[1;32m-> 7616\u001b[1;33m             \u001b[1;32mexcept\u001b[0m \u001b[0mIndexError\u001b[0m\u001b[1;33m:\u001b[0m\u001b[1;33m\u001b[0m\u001b[1;33m\u001b[0m\u001b[0m\n\u001b[0m\u001b[0;32m   7617\u001b[0m                 \u001b[1;32mbreak\u001b[0m\u001b[1;33m\u001b[0m\u001b[1;33m\u001b[0m\u001b[0m\n\u001b[0;32m   7618\u001b[0m         \u001b[1;32mif\u001b[0m \u001b[0mself\u001b[0m\u001b[1;33m.\u001b[0m\u001b[0m_cache\u001b[0m\u001b[1;33m:\u001b[0m\u001b[1;33m\u001b[0m\u001b[1;33m\u001b[0m\u001b[0m\n\u001b[0;32m   7619\u001b[0m             \u001b[0mself\u001b[0m\u001b[1;33m.\u001b[0m\u001b[0m_cached\u001b[0m \u001b[1;33m=\u001b[0m \u001b[1;32mTrue\u001b[0m\u001b[1;33m\u001b[0m\u001b[1;33m\u001b[0m\u001b[0m\n",
      "\u001b[1;32mc:\\Users\\dirk\\anaconda3\\envs\\iblenv\\lib\\site-packages\\tifffile\\tifffile.py\u001b[0m in \u001b[0;36m?\u001b[1;34m(self, key, validate, cache, aspage)\u001b[0m\n\u001b[0;32m   7565\u001b[0m         pageindex: int | tuple[int, ...] = (\n\u001b[0;32m   7566\u001b[0m             \u001b[0mkey\u001b[0m \u001b[1;32mif\u001b[0m \u001b[0mself\u001b[0m\u001b[1;33m.\u001b[0m\u001b[0m_index\u001b[0m \u001b[1;32mis\u001b[0m \u001b[1;32mNone\u001b[0m \u001b[1;32melse\u001b[0m \u001b[0mself\u001b[0m\u001b[1;33m.\u001b[0m\u001b[0m_index\u001b[0m \u001b[1;33m+\u001b[0m \u001b[1;33m(\u001b[0m\u001b[0mkey\u001b[0m\u001b[1;33m,\u001b[0m\u001b[1;33m)\u001b[0m\u001b[1;33m\u001b[0m\u001b[1;33m\u001b[0m\u001b[0m\n\u001b[0;32m   7567\u001b[0m         )\n\u001b[0;32m   7568\u001b[0m         \u001b[0mself\u001b[0m\u001b[1;33m.\u001b[0m\u001b[0m_seek\u001b[0m\u001b[1;33m(\u001b[0m\u001b[0mkey\u001b[0m\u001b[1;33m)\u001b[0m\u001b[1;33m\u001b[0m\u001b[1;33m\u001b[0m\u001b[0m\n\u001b[1;32m-> 7569\u001b[1;33m         \u001b[0mpage\u001b[0m \u001b[1;33m=\u001b[0m \u001b[0mtiffpage\u001b[0m\u001b[1;33m(\u001b[0m\u001b[0mself\u001b[0m\u001b[1;33m.\u001b[0m\u001b[0mparent\u001b[0m\u001b[1;33m,\u001b[0m \u001b[0mindex\u001b[0m\u001b[1;33m=\u001b[0m\u001b[0mpageindex\u001b[0m\u001b[1;33m,\u001b[0m \u001b[0mkeyframe\u001b[0m\u001b[1;33m=\u001b[0m\u001b[0mself\u001b[0m\u001b[1;33m.\u001b[0m\u001b[0m_keyframe\u001b[0m\u001b[1;33m)\u001b[0m\u001b[1;33m\u001b[0m\u001b[1;33m\u001b[0m\u001b[0m\n\u001b[0m\u001b[0;32m   7570\u001b[0m         \u001b[1;32massert\u001b[0m \u001b[0misinstance\u001b[0m\u001b[1;33m(\u001b[0m\u001b[0mpage\u001b[0m\u001b[1;33m,\u001b[0m \u001b[1;33m(\u001b[0m\u001b[0mTiffPage\u001b[0m\u001b[1;33m,\u001b[0m \u001b[0mTiffFrame\u001b[0m\u001b[1;33m)\u001b[0m\u001b[1;33m)\u001b[0m\u001b[1;33m\u001b[0m\u001b[1;33m\u001b[0m\u001b[0m\n\u001b[0;32m   7571\u001b[0m         \u001b[1;32mif\u001b[0m \u001b[0mvalidate\u001b[0m \u001b[1;32mand\u001b[0m \u001b[0mvalidate\u001b[0m \u001b[1;33m!=\u001b[0m \u001b[0mpage\u001b[0m\u001b[1;33m.\u001b[0m\u001b[0mhash\u001b[0m\u001b[1;33m:\u001b[0m\u001b[1;33m\u001b[0m\u001b[1;33m\u001b[0m\u001b[0m\n\u001b[0;32m   7572\u001b[0m             \u001b[1;32mraise\u001b[0m \u001b[0mRuntimeError\u001b[0m\u001b[1;33m(\u001b[0m\u001b[1;34m'page hash mismatch'\u001b[0m\u001b[1;33m)\u001b[0m\u001b[1;33m\u001b[0m\u001b[1;33m\u001b[0m\u001b[0m\n",
      "\u001b[1;32mc:\\Users\\dirk\\anaconda3\\envs\\iblenv\\lib\\site-packages\\tifffile\\tifffile.py\u001b[0m in \u001b[0;36m?\u001b[1;34m(self, parent, index, keyframe)\u001b[0m\n\u001b[0;32m   7830\u001b[0m             \u001b[1;32mtry\u001b[0m\u001b[1;33m:\u001b[0m\u001b[1;33m\u001b[0m\u001b[1;33m\u001b[0m\u001b[0m\n\u001b[0;32m   7831\u001b[0m                 tag = TiffTag.fromfile(\n\u001b[0;32m   7832\u001b[0m                     \u001b[0mparent\u001b[0m\u001b[1;33m,\u001b[0m \u001b[0moffset\u001b[0m\u001b[1;33m=\u001b[0m\u001b[0mtagoffset\u001b[0m \u001b[1;33m+\u001b[0m \u001b[0mi\u001b[0m \u001b[1;33m*\u001b[0m \u001b[0mtagsize_\u001b[0m\u001b[1;33m,\u001b[0m \u001b[0mheader\u001b[0m\u001b[1;33m=\u001b[0m\u001b[0mtagdata\u001b[0m\u001b[1;33m\u001b[0m\u001b[1;33m\u001b[0m\u001b[0m\n\u001b[0;32m   7833\u001b[0m                 )\n\u001b[1;32m-> 7834\u001b[1;33m             \u001b[1;32mexcept\u001b[0m \u001b[0mTiffFileError\u001b[0m \u001b[1;32mas\u001b[0m \u001b[0mexc\u001b[0m\u001b[1;33m:\u001b[0m\u001b[1;33m\u001b[0m\u001b[1;33m\u001b[0m\u001b[0m\n\u001b[0m\u001b[0;32m   7835\u001b[0m                 \u001b[0mlogger\u001b[0m\u001b[1;33m(\u001b[0m\u001b[1;33m)\u001b[0m\u001b[1;33m.\u001b[0m\u001b[0merror\u001b[0m\u001b[1;33m(\u001b[0m\u001b[1;34mf'<TiffTag.fromfile> raised {exc!r}'\u001b[0m\u001b[1;33m)\u001b[0m\u001b[1;33m\u001b[0m\u001b[1;33m\u001b[0m\u001b[0m\n\u001b[0;32m   7836\u001b[0m                 \u001b[1;32mcontinue\u001b[0m\u001b[1;33m\u001b[0m\u001b[1;33m\u001b[0m\u001b[0m\n\u001b[0;32m   7837\u001b[0m             \u001b[0mtags\u001b[0m\u001b[1;33m.\u001b[0m\u001b[0madd\u001b[0m\u001b[1;33m(\u001b[0m\u001b[0mtag\u001b[0m\u001b[1;33m)\u001b[0m\u001b[1;33m\u001b[0m\u001b[1;33m\u001b[0m\u001b[0m\n",
      "\u001b[1;32mc:\\Users\\dirk\\anaconda3\\envs\\iblenv\\lib\\site-packages\\tifffile\\tifffile.py\u001b[0m in \u001b[0;36m?\u001b[1;34m(cls, parent, offset, header, validate)\u001b[0m\n\u001b[0;32m  10772\u001b[0m             \u001b[1;32mor\u001b[0m \u001b[0mcode\u001b[0m \u001b[1;32min\u001b[0m \u001b[0mTIFF\u001b[0m\u001b[1;33m.\u001b[0m\u001b[0mTAG_READERS\u001b[0m  \u001b[1;31m# TODO: only works with offsets?\u001b[0m\u001b[1;33m\u001b[0m\u001b[1;33m\u001b[0m\u001b[0m\n\u001b[0;32m  10773\u001b[0m         ):\n\u001b[0;32m  10774\u001b[0m             \u001b[0mvalueoffset\u001b[0m \u001b[1;33m=\u001b[0m \u001b[0mstruct\u001b[0m\u001b[1;33m.\u001b[0m\u001b[0munpack\u001b[0m\u001b[1;33m(\u001b[0m\u001b[0mtiff\u001b[0m\u001b[1;33m.\u001b[0m\u001b[0moffsetformat\u001b[0m\u001b[1;33m,\u001b[0m \u001b[0mvalue\u001b[0m\u001b[1;33m)\u001b[0m\u001b[1;33m[\u001b[0m\u001b[1;36m0\u001b[0m\u001b[1;33m]\u001b[0m\u001b[1;33m\u001b[0m\u001b[1;33m\u001b[0m\u001b[0m\n\u001b[0;32m  10775\u001b[0m             \u001b[1;32mif\u001b[0m \u001b[0mvalidate\u001b[0m \u001b[1;32mand\u001b[0m \u001b[0mcode\u001b[0m \u001b[1;32min\u001b[0m \u001b[0mTIFF\u001b[0m\u001b[1;33m.\u001b[0m\u001b[0mTAG_LOAD\u001b[0m\u001b[1;33m:\u001b[0m\u001b[1;33m\u001b[0m\u001b[1;33m\u001b[0m\u001b[0m\n\u001b[1;32m> 10776\u001b[1;33m                 value = TiffTag._read_value(\n\u001b[0m\u001b[0;32m  10777\u001b[0m                     \u001b[0mparent\u001b[0m\u001b[1;33m,\u001b[0m \u001b[0moffset\u001b[0m\u001b[1;33m,\u001b[0m \u001b[0mcode\u001b[0m\u001b[1;33m,\u001b[0m \u001b[0mdtype\u001b[0m\u001b[1;33m,\u001b[0m \u001b[0mcount\u001b[0m\u001b[1;33m,\u001b[0m \u001b[0mvalueoffset\u001b[0m\u001b[1;33m\u001b[0m\u001b[1;33m\u001b[0m\u001b[0m\n\u001b[0;32m  10778\u001b[0m                 )\n\u001b[0;32m  10779\u001b[0m             elif (\n",
      "\u001b[1;32mc:\\Users\\dirk\\anaconda3\\envs\\iblenv\\lib\\site-packages\\tifffile\\tifffile.py\u001b[0m in \u001b[0;36m?\u001b[1;34m(parent, offset, code, dtype, count, valueoffset)\u001b[0m\n\u001b[0;32m  10854\u001b[0m             \u001b[0mreadfunc\u001b[0m \u001b[1;33m=\u001b[0m \u001b[0mTIFF\u001b[0m\u001b[1;33m.\u001b[0m\u001b[0mTAG_READERS\u001b[0m\u001b[1;33m[\u001b[0m\u001b[0mcode\u001b[0m\u001b[1;33m]\u001b[0m\u001b[1;33m\u001b[0m\u001b[1;33m\u001b[0m\u001b[0m\n\u001b[0;32m  10855\u001b[0m             \u001b[0mvalue\u001b[0m \u001b[1;33m=\u001b[0m \u001b[0mreadfunc\u001b[0m\u001b[1;33m(\u001b[0m\u001b[0mfh\u001b[0m\u001b[1;33m,\u001b[0m \u001b[0mtiff\u001b[0m\u001b[1;33m.\u001b[0m\u001b[0mbyteorder\u001b[0m\u001b[1;33m,\u001b[0m \u001b[0mdtype\u001b[0m\u001b[1;33m,\u001b[0m \u001b[0mcount\u001b[0m\u001b[1;33m,\u001b[0m \u001b[0mtiff\u001b[0m\u001b[1;33m.\u001b[0m\u001b[0moffsetsize\u001b[0m\u001b[1;33m)\u001b[0m\u001b[1;33m\u001b[0m\u001b[1;33m\u001b[0m\u001b[0m\n\u001b[0;32m  10856\u001b[0m         \u001b[1;32melif\u001b[0m \u001b[0mdtype\u001b[0m \u001b[1;32min\u001b[0m \u001b[1;33m{\u001b[0m\u001b[1;36m1\u001b[0m\u001b[1;33m,\u001b[0m \u001b[1;36m2\u001b[0m\u001b[1;33m,\u001b[0m \u001b[1;36m7\u001b[0m\u001b[1;33m}\u001b[0m\u001b[1;33m:\u001b[0m\u001b[1;33m\u001b[0m\u001b[1;33m\u001b[0m\u001b[0m\n\u001b[0;32m  10857\u001b[0m             \u001b[1;31m# BYTES, ASCII, UNDEFINED\u001b[0m\u001b[1;33m\u001b[0m\u001b[1;33m\u001b[0m\u001b[0m\n\u001b[1;32m> 10858\u001b[1;33m             \u001b[0mvalue\u001b[0m \u001b[1;33m=\u001b[0m \u001b[0mfh\u001b[0m\u001b[1;33m.\u001b[0m\u001b[0mread\u001b[0m\u001b[1;33m(\u001b[0m\u001b[0mvaluesize\u001b[0m\u001b[1;33m)\u001b[0m\u001b[1;33m\u001b[0m\u001b[1;33m\u001b[0m\u001b[0m\n\u001b[0m\u001b[0;32m  10859\u001b[0m             \u001b[1;32mif\u001b[0m \u001b[0mlen\u001b[0m\u001b[1;33m(\u001b[0m\u001b[0mvalue\u001b[0m\u001b[1;33m)\u001b[0m \u001b[1;33m!=\u001b[0m \u001b[0mvaluesize\u001b[0m\u001b[1;33m:\u001b[0m\u001b[1;33m\u001b[0m\u001b[1;33m\u001b[0m\u001b[0m\n\u001b[0;32m  10860\u001b[0m                 logger().warning(\n\u001b[0;32m  10861\u001b[0m                     \u001b[1;34mf'<tifffile.TiffTag {code} @{offset}> '\u001b[0m\u001b[1;33m\u001b[0m\u001b[1;33m\u001b[0m\u001b[0m\n",
      "\u001b[1;32mc:\\Users\\dirk\\anaconda3\\envs\\iblenv\\lib\\site-packages\\tifffile\\tifffile.py\u001b[0m in \u001b[0;36m?\u001b[1;34m(self, size)\u001b[0m\n\u001b[0;32m  14297\u001b[0m         \"\"\"\n\u001b[0;32m  14298\u001b[0m         \u001b[1;32mif\u001b[0m \u001b[0msize\u001b[0m \u001b[1;33m<\u001b[0m \u001b[1;36m0\u001b[0m \u001b[1;32mand\u001b[0m \u001b[0mself\u001b[0m\u001b[1;33m.\u001b[0m\u001b[0m_offset\u001b[0m\u001b[1;33m:\u001b[0m\u001b[1;33m\u001b[0m\u001b[1;33m\u001b[0m\u001b[0m\n\u001b[0;32m  14299\u001b[0m             \u001b[0msize\u001b[0m \u001b[1;33m=\u001b[0m \u001b[0mself\u001b[0m\u001b[1;33m.\u001b[0m\u001b[0m_size\u001b[0m\u001b[1;33m\u001b[0m\u001b[1;33m\u001b[0m\u001b[0m\n\u001b[0;32m  14300\u001b[0m         \u001b[1;32massert\u001b[0m \u001b[0mself\u001b[0m\u001b[1;33m.\u001b[0m\u001b[0m_fh\u001b[0m \u001b[1;32mis\u001b[0m \u001b[1;32mnot\u001b[0m \u001b[1;32mNone\u001b[0m\u001b[1;33m\u001b[0m\u001b[1;33m\u001b[0m\u001b[0m\n\u001b[1;32m> 14301\u001b[1;33m         \u001b[1;32mreturn\u001b[0m \u001b[0mself\u001b[0m\u001b[1;33m.\u001b[0m\u001b[0m_fh\u001b[0m\u001b[1;33m.\u001b[0m\u001b[0mread\u001b[0m\u001b[1;33m(\u001b[0m\u001b[0msize\u001b[0m\u001b[1;33m)\u001b[0m\u001b[1;33m\u001b[0m\u001b[1;33m\u001b[0m\u001b[0m\n\u001b[0m",
      "\u001b[1;31mKeyboardInterrupt\u001b[0m: "
     ]
    }
   ],
   "source": [
    "tifffilepath = r'Z:\\TM_Lab\\Edward\\Cerebellum_Imaging\\Pcp2-jgcamp8m\\A_R2\\20240910\\arm1\\arm1_1roi_150sq_1024px_etl260_15hz_00001.tif'\n",
    "stack = []\n",
    "mean_fluo = []\n",
    "with tifffile.TiffFile(tifffilepath) as tif:\n",
    "        for ind, page in enumerate(tif.pages):\n",
    "            if ind<3000:\n",
    "                image = page.asarray()\n",
    "                #stack.append(image)\n",
    "                mean_fluo.append(np.mean(image))\n",
    "            "
   ]
  },
  {
   "cell_type": "code",
   "execution_count": 20,
   "metadata": {},
   "outputs": [
    {
     "data": {
      "text/plain": [
       "[<matplotlib.lines.Line2D at 0x238f23d33d0>]"
      ]
     },
     "execution_count": 20,
     "metadata": {},
     "output_type": "execute_result"
    },
    {
     "data": {
      "image/png": "[encoded data removed]",
      "text/plain": [
       "<Figure size 640x480 with 1 Axes>"
      ]
     },
     "metadata": {},
     "output_type": "display_data"
    }
   ],
   "source": [
    "plt.plot(mean_fluo)"
   ]
  },
  {
   "cell_type": "code",
   "execution_count": 11,
   "metadata": {},
   "outputs": [
    {
     "data": {
      "text/plain": [
       "20559"
      ]
     },
     "execution_count": 11,
     "metadata": {},
     "output_type": "execute_result"
    }
   ],
   "source": [
    "len(stack)"
   ]
  },
  {
   "cell_type": "code",
   "execution_count": 22,
   "metadata": {},
   "outputs": [
    {
     "name": "stdout",
     "output_type": "stream",
     "text": [
      "0/3000 frames done\n",
      "1000/3000 frames done\n",
      "2000/3000 frames done\n"
     ]
    }
   ],
   "source": [
    "substack = stack[:]\n",
    "# Save the adjusted images as a new TIFF file\n",
    "output_file_path = r'I:\\J_L2\\20240904\\arm1\\substack\\substack_0_3000_arm1_.tif'\n",
    "with tifffile.TiffWriter(output_file_path, bigtiff=True) as tif:\n",
    "    for ind,image in enumerate(substack):\n",
    "        tif.write(image)\n",
    "        if ind%1000==0:\n",
    "                print(f'{ind}/{len(substack)} frames done')"
   ]
  },
  {
   "cell_type": "code",
   "execution_count": 24,
   "metadata": {},
   "outputs": [
    {
     "name": "stdout",
     "output_type": "stream",
     "text": [
      "Frame: 14317 Height: 1040 Width: 512\n"
     ]
    }
   ],
   "source": [
    "vol=reader.data()\n",
    "print('Frame: %s Height: %s Width: %s' %(vol.shape[0], vol.shape[1], vol.shape[2]))"
   ]
  },
  {
   "cell_type": "code",
   "execution_count": null,
   "metadata": {},
   "outputs": [],
   "source": [
    "frames_metadata = []\n",
    "\n",
    "with ScanImageTiffReader(img_path) as reader:\n",
    "    num_frames = reader.shape()[0]  # Assuming the first dimension represents frames\n",
    "    \n",
    "    for i in range(num_frames):\n",
    "        description = reader.description(i)\n",
    "        frame_metadata = {}  # Dictionary to hold this frame's metadata\n",
    "        \n",
    "        for line in description.split('\\n'):\n",
    "            if '=' in line:  # Ensure there's a key-value pair to parse\n",
    "                key, value = line.split('=', 1)  # Split by the first '='\n",
    "                key = key.strip()\n",
    "                \n",
    "                try:\n",
    "                    # Safely evaluate the value string to the appropriate Python data type\n",
    "                    # This works for numbers, lists, dictionaries, etc.\n",
    "                    value = ast.literal_eval(value.strip())\n",
    "                except (ValueError, SyntaxError):\n",
    "                    # If evaluation fails, keep the value as a string\n",
    "                    value = value.strip()\n",
    "                \n",
    "                frame_metadata[key] = value\n",
    "        \n",
    "        frames_metadata.append(frame_metadata)\n"
   ]
  },
  {
   "cell_type": "code",
   "execution_count": 37,
   "metadata": {},
   "outputs": [
    {
     "data": {
      "text/plain": [
       "{'frameNumbers': 1,\n",
       " 'acquisitionNumbers': 1,\n",
       " 'frameNumberAcquisition': 1,\n",
       " 'frameTimestamps_sec': 0.0,\n",
       " 'acqTriggerTimestamps_sec': -0.00011737,\n",
       " 'nextFileMarkerTimestamps_sec': -1.0,\n",
       " 'endOfAcquisition': 0,\n",
       " 'endOfAcquisitionMode': 0,\n",
       " 'dcOverVoltage': 0,\n",
       " 'epoch': '[2024  3  5 12 25 15.238]',\n",
       " 'auxTrigger0': [],\n",
       " 'auxTrigger1': [],\n",
       " 'auxTrigger2': [],\n",
       " 'auxTrigger3': [],\n",
       " 'I2CData': {}}"
      ]
     },
     "execution_count": 37,
     "metadata": {},
     "output_type": "execute_result"
    }
   ],
   "source": [
    "frames_metadata[0]"
   ]
  },
  {
   "cell_type": "code",
   "execution_count": 38,
   "metadata": {},
   "outputs": [],
   "source": [
    "all_auxTrigger0 = []\n",
    "\n",
    "# Iterate through each frame's metadata\n",
    "for frame_metadata in frames_metadata:\n",
    "    # Check if 'auxTrigger0' exists and is not empty\n",
    "    if 'auxTrigger0' in frame_metadata and frame_metadata['auxTrigger0']:\n",
    "        # Extend the all_auxTrigger0 list with the numbers from this frame's auxTrigger0\n",
    "        all_auxTrigger0.extend(frame_metadata['auxTrigger0'])"
   ]
  },
  {
   "cell_type": "code",
   "execution_count": 39,
   "metadata": {},
   "outputs": [
    {
     "data": {
      "text/plain": [
       "[33.78155021,\n",
       " 45.68120846,\n",
       " 46.73831696,\n",
       " 57.58207253,\n",
       " 58.64988146,\n",
       " 67.60462751,\n",
       " 68.66533688,\n",
       " 76.1923746,\n",
       " 77.24698399,\n",
       " 89.06634541,\n",
       " 90.20465545,\n",
       " 99.51650445,\n",
       " 100.57881332,\n",
       " 106.30794343,\n",
       " 107.3560526,\n",
       " 119.87042058,\n",
       " 120.94502926,\n",
       " 130.54347846,\n",
       " 131.60688759,\n",
       " 144.02305433,\n",
       " 145.0975635,\n",
       " 154.54891217,\n",
       " 155.61202118,\n",
       " 167.29938358,\n",
       " 168.37039251,\n",
       " 176.15663213,\n",
       " 177.21324122,\n",
       " 187.68489387,\n",
       " 188.75160327]"
      ]
     },
     "execution_count": 39,
     "metadata": {},
     "output_type": "execute_result"
    }
   ],
   "source": [
    "all_auxTrigger0"
   ]
  },
  {
   "cell_type": "code",
   "execution_count": 34,
   "metadata": {},
   "outputs": [
    {
     "name": "stdout",
     "output_type": "stream",
     "text": [
      "<class 'str'>\n",
      "frameNumbers = 2\n",
      "acquisitionNumbers = 1\n",
      "frameNumberAcquisition = 2\n",
      "frameTimestamps_sec = 0.065715060\n",
      "acqTriggerTimestamps_sec = -1.000000000\n",
      "nextFileMarkerTimestamps_sec = -1.000000000\n",
      "endOfAcquisition = 0\n",
      "endOfAcquisitionMode = 0\n",
      "dcOverVoltage = 0\n",
      "epoch = [2024  3  5 12 25 15.238]\n",
      "auxTrigger0 = []\n",
      "auxTrigger1 = []\n",
      "auxTrigger2 = []\n",
      "auxTrigger3 = []\n",
      "I2CData = {}\n",
      "                                                                                                                                                                                                                                                                                                                                                                                                                                                                                                                                                                                                                                                                                                                                                                                                                                                                                                                                                                                                                                                                                                                                                                                                                                                                                                                                                                                                                                                                                                                                                                                                                                                                                                    \n",
      "3000\n"
     ]
    }
   ],
   "source": [
    "with ScanImageTiffReader(img_path) as reader:\n",
    "    description = reader.description(1)\n",
    "    print(type(description))\n",
    "    print(description)\n",
    "    print(reader.shape()[0])"
   ]
  },
  {
   "cell_type": "code",
   "execution_count": null,
   "metadata": {},
   "outputs": [],
   "source": [
    "with ScanImageTiffReader(img_path) as reader:\n",
    "    o=json.loads(reader.metadata())\n",
    "    print(o[\"RoiGroups\"][\"imagingRoiGroup\"][\"rois\"][\"scanfields\"][\"affine\"])"
   ]
  },
  {
   "cell_type": "code",
   "execution_count": null,
   "metadata": {},
   "outputs": [],
   "source": []
  }
 ],
 "metadata": {
  "kernelspec": {
   "display_name": "Python 3",
   "language": "python",
   "name": "python3"
  },
  "language_info": {
   "codemirror_mode": {
    "name": "ipython",
    "version": 3
   },
   "file_extension": ".py",
   "mimetype": "text/x-python",
   "name": "python",
   "nbconvert_exporter": "python",
   "pygments_lexer": "ipython3",
   "version": "3.10.13"
  },
  "orig_nbformat": 4
 },
 "nbformat": 4,
 "nbformat_minor": 2
}
